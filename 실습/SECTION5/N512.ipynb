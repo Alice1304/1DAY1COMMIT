{
  "nbformat": 4,
  "nbformat_minor": 0,
  "metadata": {
    "colab": {
      "provenance": [],
      "collapsed_sections": [],
      "authorship_tag": "ABX9TyNFW4qn8ljMRhCz2y++YC73",
      "include_colab_link": true
    },
    "kernelspec": {
      "name": "python3",
      "display_name": "Python 3"
    },
    "language_info": {
      "name": "python"
    }
  },
  "cells": [
    {
      "cell_type": "markdown",
      "metadata": {
        "id": "view-in-github",
        "colab_type": "text"
      },
      "source": [
        "<a href=\"https://colab.research.google.com/github/Alice1304/1day1commit/blob/main/%EC%8B%A4%EC%8A%B5/SECTION5/N512.ipynb\" target=\"_parent\"><img src=\"https://colab.research.google.com/assets/colab-badge.svg\" alt=\"Open In Colab\"/></a>"
      ]
    },
    {
      "cell_type": "code",
      "execution_count": null,
      "metadata": {
        "colab": {
          "base_uri": "https://localhost:8080/"
        },
        "id": "M9f9QMBEt-WO",
        "outputId": "7be08f58-1349-40d7-cbdf-1eabd49c2e2b"
      },
      "outputs": [
        {
          "output_type": "stream",
          "name": "stdout",
          "text": [
            "[1]\n",
            "[1, 2]\n",
            "[1, 2, 3]\n",
            "[1, 2, 3, 4]\n",
            "[1, 2, 3, 4, 5]\n",
            "[1, 2, 3, 4, 5, 6]\n",
            "[1, 2, 3, 4, 5, 6, 7]\n",
            "[1, 2, 3, 4, 5, 6, 7, 8]\n",
            "[1, 2, 3, 4, 5, 6, 7, 8, 9]\n"
          ]
        }
      ],
      "source": [
        "# 인트로 코딩\n",
        "# case 1 - 반복문\n",
        "i = []\n",
        "for x in range(1,10):\n",
        "    i.append(x)\n",
        "    print(i)"
      ]
    },
    {
      "cell_type": "code",
      "source": [
        "# case 2 - 컴프리헨션\n",
        "[i for i in range(1,10)]"
      ],
      "metadata": {
        "colab": {
          "base_uri": "https://localhost:8080/"
        },
        "id": "3Zq9HZlGuMHm",
        "outputId": "cfadbdf5-62c2-4006-ab59-0d772fc83ec3"
      },
      "execution_count": null,
      "outputs": [
        {
          "output_type": "execute_result",
          "data": {
            "text/plain": [
              "[1, 2, 3, 4, 5, 6, 7, 8, 9]"
            ]
          },
          "metadata": {},
          "execution_count": 8
        }
      ]
    },
    {
      "cell_type": "code",
      "source": [
        "# case 1\n",
        "for i in range(1,51):\n",
        "    if i%3==0 and i%5==0:\n",
        "        print(i)"
      ],
      "metadata": {
        "colab": {
          "base_uri": "https://localhost:8080/"
        },
        "id": "XwxMQSaFuWFO",
        "outputId": "5dda4b97-a59c-4e10-a2ed-0cec0cfeeee0"
      },
      "execution_count": null,
      "outputs": [
        {
          "output_type": "stream",
          "name": "stdout",
          "text": [
            "15\n",
            "30\n",
            "45\n"
          ]
        }
      ]
    },
    {
      "cell_type": "code",
      "source": [
        "# case 2\n",
        "[i for i in range(1,51) if i%3==0 and i%5==0]"
      ],
      "metadata": {
        "colab": {
          "base_uri": "https://localhost:8080/"
        },
        "id": "6t6nvxubuhX4",
        "outputId": "6ba156e8-a5d9-414a-c5cd-32dbe092d316"
      },
      "execution_count": null,
      "outputs": [
        {
          "output_type": "execute_result",
          "data": {
            "text/plain": [
              "[15, 30, 45]"
            ]
          },
          "metadata": {},
          "execution_count": 10
        }
      ]
    },
    {
      "cell_type": "code",
      "source": [
        "for i in range(2,21):\n",
        "    if i == 8:\n",
        "        print()\n",
        "        continue\n",
        "    print(i , end= ' ')"
      ],
      "metadata": {
        "colab": {
          "base_uri": "https://localhost:8080/"
        },
        "id": "8aB2pk7ru3s9",
        "outputId": "91e856ed-a1bc-4cac-c825-0326470b68e6"
      },
      "execution_count": null,
      "outputs": [
        {
          "output_type": "stream",
          "name": "stdout",
          "text": [
            "2 3 4 5 6 7 \n",
            "9 10 11 12 13 14 15 16 17 18 19 20 "
          ]
        }
      ]
    },
    {
      "cell_type": "code",
      "source": [
        "# 의사코드 예시2에 대한 실제 실행되는 코드\n",
        "\n",
        "def div():\n",
        "  for i in range(1,11):\n",
        "    if i % 3 == 0: # i를 3으로 나눴을 때 나머지가 0인 경우\n",
        "      print('숫자',i, '=>','3으로 나눠짐')\n",
        "    elif i % 5 == 0: # i를 5로 나눴을 때 나머지가 0인 경우\n",
        "      print('숫자',i, '=>','5로 나눠짐')\n",
        "    else: \n",
        "      print('그외',i, '=>','숫자 3과 5로 나눠지지 않음')\n",
        "    \n",
        "div()"
      ],
      "metadata": {
        "colab": {
          "base_uri": "https://localhost:8080/"
        },
        "id": "yiShM-Bxvxzt",
        "outputId": "83452fb7-fa9d-4118-81e1-786b45873c96"
      },
      "execution_count": null,
      "outputs": [
        {
          "output_type": "stream",
          "name": "stdout",
          "text": [
            "그외 1 => 숫자 3과 5로 나눠지지 않음\n",
            "그외 2 => 숫자 3과 5로 나눠지지 않음\n",
            "숫자 3 => 3으로 나눠짐\n",
            "그외 4 => 숫자 3과 5로 나눠지지 않음\n",
            "숫자 5 => 5로 나눠짐\n",
            "숫자 6 => 3으로 나눠짐\n",
            "그외 7 => 숫자 3과 5로 나눠지지 않음\n",
            "그외 8 => 숫자 3과 5로 나눠지지 않음\n",
            "숫자 9 => 3으로 나눠짐\n",
            "숫자 10 => 5로 나눠짐\n"
          ]
        }
      ]
    },
    {
      "cell_type": "code",
      "source": [
        "numbers = [1, 2, 3, 4]\n",
        "squares = []\n",
        "\n",
        "for n in numbers:\n",
        "    squares.append(n**2)\n",
        "\n",
        "print(squares) "
      ],
      "metadata": {
        "colab": {
          "base_uri": "https://localhost:8080/"
        },
        "id": "6UOXa4-jx77D",
        "outputId": "0a4cde80-49e0-4875-b8d6-9755c4affaa4"
      },
      "execution_count": null,
      "outputs": [
        {
          "output_type": "stream",
          "name": "stdout",
          "text": [
            "[1, 4, 9, 16]\n"
          ]
        }
      ]
    },
    {
      "cell_type": "code",
      "source": [
        "numbers = [1, 2, 3, 4]\n",
        "squares = [n**2 for n in numbers]\n",
        "\n",
        "print(squares) "
      ],
      "metadata": {
        "colab": {
          "base_uri": "https://localhost:8080/"
        },
        "id": "ni94V5Gcx_Ab",
        "outputId": "64374cd3-b22c-4d9c-f882-e0a3618c3298"
      },
      "execution_count": null,
      "outputs": [
        {
          "output_type": "stream",
          "name": "stdout",
          "text": [
            "[1, 4, 9, 16]\n"
          ]
        }
      ]
    },
    {
      "cell_type": "code",
      "source": [
        "list_a = [1, 2, 3, 4]\n",
        "list_b = [2, 3, 4, 5]\n",
        "\n",
        "common_num = []\n",
        "\n",
        "for a in list_a:\n",
        "    for b in list_b:\n",
        "        if a == b:\n",
        "            common_num.append(a)\n",
        "      \n",
        "print(common_num)"
      ],
      "metadata": {
        "colab": {
          "base_uri": "https://localhost:8080/"
        },
        "id": "2uR_V0_MyN2K",
        "outputId": "afaef8b4-9e1d-4efb-f7e5-84f850764480"
      },
      "execution_count": null,
      "outputs": [
        {
          "output_type": "stream",
          "name": "stdout",
          "text": [
            "[2, 3, 4]\n"
          ]
        }
      ]
    },
    {
      "cell_type": "code",
      "source": [
        "list_a = [1, 2, 3, 4]\n",
        "list_b = [2, 3, 4, 5]\n",
        "\n",
        "common_num = [a for a in list_a for b in list_b if a == b]\n",
        "\n",
        "print(common_num)"
      ],
      "metadata": {
        "id": "S1dyMfi1LnvP"
      },
      "execution_count": null,
      "outputs": []
    },
    {
      "cell_type": "code",
      "source": [
        "# 딕셔너리 컴프리헨션 \n",
        "# key, value, items\n",
        "test = {'A': 5, 'B': 7, 'C': 9, 'D': 6, 'E': 10} \n",
        "test = {na:test for na,test in test.items() if na != 'E'}\n",
        "print(test)"
      ],
      "metadata": {
        "colab": {
          "base_uri": "https://localhost:8080/"
        },
        "id": "8X1nScRonV8O",
        "outputId": "09c09b9a-5f02-4c6e-a364-a62a1590fa3b"
      },
      "execution_count": null,
      "outputs": [
        {
          "output_type": "stream",
          "name": "stdout",
          "text": [
            "{'A': 5, 'B': 7, 'C': 9, 'D': 6}\n"
          ]
        }
      ]
    },
    {
      "cell_type": "code",
      "source": [
        "# 아래와 같이 조건을 반복문 대신 조건을 먼저 쓸 수 있다.\n",
        "# 조건을 위해 if를 사용하는 경우 else를 작성해줘야된다.\n",
        "numbers = {'amy': 7, 'jane': 9, 'sophia': 5, 'jay': 10}\n",
        "pas = {name: 'PASS' if numbers > 8 else 'NO PASS' for name, numbers in numbers.items()}\n",
        "print(pas)"
      ],
      "metadata": {
        "colab": {
          "base_uri": "https://localhost:8080/"
        },
        "id": "07Qc-4Gqnrm1",
        "outputId": "d7322eeb-7442-4f00-f722-9d840808b30f"
      },
      "execution_count": null,
      "outputs": [
        {
          "output_type": "stream",
          "name": "stdout",
          "text": [
            "{'amy': 'NO PASS', 'jane': 'PASS', 'sophia': 'NO PASS', 'jay': 'PASS'}\n"
          ]
        }
      ]
    },
    {
      "cell_type": "code",
      "source": [
        "# 아래처럼 반복문을 연속으로 작성가능하다.\n",
        "# set은 특성상 중복값을 제외한다.\n",
        "print('list for loop : ',[n for n in range(1, 5+1) for n in range(1, 5+1)])\n",
        "print('set for loop : ',{n for n in range(1, 5+1) for n in range(1, 5+1)})"
      ],
      "metadata": {
        "colab": {
          "base_uri": "https://localhost:8080/"
        },
        "id": "_gDPIH0RshRp",
        "outputId": "d13ec0f0-7602-406e-9c90-0998bcb43189"
      },
      "execution_count": null,
      "outputs": [
        {
          "output_type": "stream",
          "name": "stdout",
          "text": [
            "list for loop :  [1, 2, 3, 4, 5, 1, 2, 3, 4, 5, 1, 2, 3, 4, 5, 1, 2, 3, 4, 5, 1, 2, 3, 4, 5]\n",
            "set for loop :  {1, 2, 3, 4, 5}\n"
          ]
        }
      ]
    },
    {
      "cell_type": "code",
      "source": [
        "# 두개의 리스트를 하나의 딕셔너리로 합침. \n",
        "# 하나는 key, 또 다른 하나는 value로 사용한다\n",
        "subjects = ['math', 'history', 'english', 'computer engineering']\n",
        "scores = [90, 80, 95, 100]\n",
        "score_dict = {key: value for key, value in zip(subjects, scores)}\n",
        "print(score_dict)\n",
        "\n",
        "# 튜플 리스트를 딕셔너리 형태로 변환\n",
        "score_tuples = [('math', 90), ('history', 80), ('english', 95), ('computer engineering', 100)]\n",
        "score_dict = {t[0]: t[1] for t in score_tuples}\n",
        "print(score_dict)"
      ],
      "metadata": {
        "colab": {
          "base_uri": "https://localhost:8080/"
        },
        "id": "jFus45T-tCMQ",
        "outputId": "b6baa627-3aeb-4768-9f31-c23b6b3c0488"
      },
      "execution_count": null,
      "outputs": [
        {
          "output_type": "stream",
          "name": "stdout",
          "text": [
            "{'math': 90, 'history': 80, 'english': 95, 'computer engineering': 100}\n",
            "{'math': 90, 'history': 80, 'english': 95, 'computer engineering': 100}\n"
          ]
        }
      ]
    },
    {
      "cell_type": "code",
      "source": [
        "# 아래 소스코드를 한 줄씩 실행하면서 지역변수와 전역변수에 대해 파악한다.\n",
        "g_var = 'g_var'   # 전역변수\n",
        "\n",
        "# 값 수정후(수정값)\n",
        "def variables():\n",
        "    global glo_var  # global 전역변수\n",
        "    glo_var = 'glo_var' # global 전역변수에 새로운 값 할당\n",
        "    lo_var = 'lo_var'   # 지역변수\n",
        "\n",
        "    print()\n",
        "    print('(값 수정후)함수 안에서 g_var(전역변수) : ', g_var)  # 수정되지 않고 초기값을 출력함\n",
        "    print('(값 수정후)함수 안에서 glo_var(global 전역변수) : ', glo_var)  # 함수에서 수정된 후 값을 출력함\n",
        "    print('함수 안에서 lo_var(지역변수) : ', lo_var)    # 특정 함수에서만 출력되는 지역변수\n",
        "\n",
        "# 전역변수를 파라미터로 담은 함수\n",
        "def second_variables(glo_var, g_var):\n",
        "    glo_var = 'glo_var in second_variables()'\n",
        "    g_var = 'g_var in second_variables()'\n",
        "    lo_var = 'second lo_var'\n",
        "    print('서로 다른 함수에서 지역변수이름이 같은 경우 :',lo_var)\n",
        "    \n",
        "    return glo_var,g_var\n",
        "  \n",
        "# 값 수정전(초기값)\n",
        "g_var = 'g_var_new_value'\n",
        "glo_var = 'glo_var_new_value'\n",
        "print('(값 수정전)함수 밖에서 g_var(전역변수) : ', g_var)  \n",
        "print('(값 수정전)함수 밖에서 glo_var(global 전역변수) : ', glo_var) # 새로 할당된 값으로 수정됨\n",
        "# print('함수 밖에서 lo_var(지역변수) : ', lo_var) # 특정 함수 안에서만 사용하는 지역변수이므로 출력안됨\n",
        "\n",
        "# 전역변수의 값 수정\n",
        "# print('함수의 파라미터가 전역변수인 경우 :', second_variables(glo_var, g_var))\n",
        "\n",
        "# 지역변수를 갖고 오는 경우\n",
        "\n",
        "# print('함수의 파라미터가 지역변수인 경우 :', second_variables(glo_var, lo_var))\n",
        "\n",
        "# 함수에서 수정된 전역변수 재호출\n",
        "print('전역변수값 :',glo_var, g_var)\n",
        "\n",
        "variables()"
      ],
      "metadata": {
        "colab": {
          "base_uri": "https://localhost:8080/"
        },
        "id": "LQQgjla2NJ_1",
        "outputId": "f56c31d3-d864-4a39-d43d-59091a17fd71"
      },
      "execution_count": null,
      "outputs": [
        {
          "output_type": "stream",
          "name": "stdout",
          "text": [
            "(값 수정전)함수 밖에서 g_var(전역변수) :  g_var_new_value\n",
            "(값 수정전)함수 밖에서 glo_var(global 전역변수) :  glo_var_new_value\n",
            "전역변수값 : glo_var_new_value g_var_new_value\n",
            "\n",
            "(값 수정후)함수 안에서 g_var(전역변수) :  g_var_new_value\n",
            "(값 수정후)함수 안에서 glo_var(global 전역변수) :  glo_var\n",
            "함수 안에서 lo_var(지역변수) :  lo_var\n"
          ]
        }
      ]
    },
    {
      "cell_type": "code",
      "source": [
        "# for ~ else 문\n",
        "# else문의 역할: 반복(for)문에서 break가 발생하지 않았을 경우의 동작을 else문에 적어준다.\n",
        "for i in range(3):\n",
        "    print('loop : ', i) # 1) 루프반복수행\n",
        "else: \n",
        "    print('break가 실행되지 않았습니다.') # 2) else 구문 추가수행"
      ],
      "metadata": {
        "colab": {
          "base_uri": "https://localhost:8080/"
        },
        "id": "hGygipQ7RL6s",
        "outputId": "757131b8-eee3-4079-cd9b-b7d671d5ae64"
      },
      "execution_count": null,
      "outputs": [
        {
          "output_type": "stream",
          "name": "stdout",
          "text": [
            "loop :  0\n",
            "loop :  1\n",
            "loop :  2\n",
            "break가 실행되지 않았습니다.\n"
          ]
        }
      ]
    },
    {
      "cell_type": "code",
      "source": [
        "for i in range(3):\n",
        "    print('loop : ', i) # 1) 루프반복수행\n",
        "    if i == 1:\n",
        "        break     # break는 어떤 영향을 줄 것인가?\n",
        "else: \n",
        "    print('break가 실행되지 않았습니다.') # 2) else 구문 추가수행"
      ],
      "metadata": {
        "colab": {
          "base_uri": "https://localhost:8080/"
        },
        "id": "Te_dwIfosmpy",
        "outputId": "247ab6af-0366-434b-8be6-7af2a301584f"
      },
      "execution_count": null,
      "outputs": [
        {
          "output_type": "stream",
          "name": "stdout",
          "text": [
            "loop :  0\n",
            "loop :  1\n"
          ]
        }
      ]
    },
    {
      "cell_type": "code",
      "source": [
        "# 반복문에 빈 리스트를 넣으면 어떻게 될까?\n",
        "for i in []:\n",
        "    print('loop : ', i) # 1) 루프반복수행\n",
        "else: \n",
        "    print('Else statement') # 2) else 구문 추가수행"
      ],
      "metadata": {
        "colab": {
          "base_uri": "https://localhost:8080/"
        },
        "id": "sGlA1qQHs5KA",
        "outputId": "efc6a13b-a5ce-4265-d5c9-2a1e37f19b13"
      },
      "execution_count": null,
      "outputs": [
        {
          "output_type": "stream",
          "name": "stdout",
          "text": [
            "Else statement\n"
          ]
        }
      ]
    },
    {
      "cell_type": "code",
      "source": [
        "# 서로소 판별문제\n",
        "# 서로소(coprime): 공약수가 1뿐인 두 정수\n",
        "p_a = 18\n",
        "p_b = 21\n",
        "\n",
        "for i in range(2, min(p_a, p_b) +1):\n",
        "    print('testing ....', i)\n",
        "    if p_a % i == 0 and p_b % i == 0:\n",
        "        print('서로소가 아닙니다.')\n",
        "        break\n",
        "# 공약수가 1뿐인 경우 break 문이 실행되지 못하고 아래 else문이 실행된다.\n",
        "else:\n",
        "    print('서로소입니다.')\n",
        "\n",
        "print('---------------------------------')\n",
        "# 아래 코드를 수행하여 위의 코드 결과를 비교해 보세요.\n",
        "p_a = 5\n",
        "p_b = 3\n",
        "\n",
        "for i in range(2, min(p_a, p_b) +1):\n",
        "    print('testing ....', i)\n",
        "    if p_a % i == 0 and p_b % i == 0:\n",
        "        print('서로소가 아닙니다.')\n",
        "        break\n",
        "    else:\n",
        "        print('서로소입니다.')"
      ],
      "metadata": {
        "colab": {
          "base_uri": "https://localhost:8080/"
        },
        "id": "lb3hro96s8n4",
        "outputId": "75d476b8-2659-427c-a307-4f92f288c0db"
      },
      "execution_count": null,
      "outputs": [
        {
          "output_type": "stream",
          "name": "stdout",
          "text": [
            "testing .... 2\n",
            "testing .... 3\n",
            "서로소가 아닙니다.\n",
            "---------------------------------\n",
            "testing .... 2\n",
            "서로소입니다.\n",
            "testing .... 3\n",
            "서로소입니다.\n"
          ]
        }
      ]
    },
    {
      "cell_type": "code",
      "source": [
        "# 오이를 싫어하는 사람의 김밥\n",
        "bucket = [\"햄\", \"계란\", \"참치\",\"당근\", \"우엉\", \"오이\", \"단무지\"]\n",
        "gimbab = list()\n",
        "\n",
        "for ingredient in bucket:\n",
        "    if ingredient == \"오이\":\n",
        "        continue\n",
        "    else:\n",
        "        gimbab.append(ingredient)\n",
        "\n",
        "print(gimbab)"
      ],
      "metadata": {
        "colab": {
          "base_uri": "https://localhost:8080/"
        },
        "id": "KrTkYOmTt64n",
        "outputId": "3b15c058-312f-462d-d3bf-6f002d69f083"
      },
      "execution_count": null,
      "outputs": [
        {
          "output_type": "stream",
          "name": "stdout",
          "text": [
            "['햄', '계란', '참치', '당근', '우엉', '단무지']\n"
          ]
        }
      ]
    },
    {
      "cell_type": "code",
      "source": [
        "def my_divide():\n",
        "    x = input('분자의 숫자를 입력하세요 ~ ')\n",
        "    y = input('분모의 숫자를 입력하세요 ~ ')\n",
        "    return int(x)/int(y)\n",
        " \n",
        "print(my_divide()) # 분모에 0 입력시 에러가 뜬다"
      ],
      "metadata": {
        "colab": {
          "base_uri": "https://localhost:8080/",
          "height": 376
        },
        "id": "vV_Pfer0uIRm",
        "outputId": "fa0fcc32-7e1e-48e2-f782-62fa2248ebdb"
      },
      "execution_count": null,
      "outputs": [
        {
          "name": "stdout",
          "output_type": "stream",
          "text": [
            "분자의 숫자를 입력하세요 ~ 5\n",
            "분모의 숫자를 입력하세요 ~ 0\n"
          ]
        },
        {
          "output_type": "error",
          "ename": "ZeroDivisionError",
          "evalue": "ignored",
          "traceback": [
            "\u001b[0;31m---------------------------------------------------------------------------\u001b[0m",
            "\u001b[0;31mZeroDivisionError\u001b[0m                         Traceback (most recent call last)",
            "\u001b[0;32m<ipython-input-9-dde784e2e52f>\u001b[0m in \u001b[0;36m<module>\u001b[0;34m\u001b[0m\n\u001b[1;32m      4\u001b[0m     \u001b[0;32mreturn\u001b[0m \u001b[0mint\u001b[0m\u001b[0;34m(\u001b[0m\u001b[0mx\u001b[0m\u001b[0;34m)\u001b[0m\u001b[0;34m/\u001b[0m\u001b[0mint\u001b[0m\u001b[0;34m(\u001b[0m\u001b[0my\u001b[0m\u001b[0;34m)\u001b[0m\u001b[0;34m\u001b[0m\u001b[0;34m\u001b[0m\u001b[0m\n\u001b[1;32m      5\u001b[0m \u001b[0;34m\u001b[0m\u001b[0m\n\u001b[0;32m----> 6\u001b[0;31m \u001b[0mprint\u001b[0m\u001b[0;34m(\u001b[0m\u001b[0mmy_divide\u001b[0m\u001b[0;34m(\u001b[0m\u001b[0;34m)\u001b[0m\u001b[0;34m)\u001b[0m \u001b[0;31m# 분모에 0 입력시 에러가 뜬다\u001b[0m\u001b[0;34m\u001b[0m\u001b[0;34m\u001b[0m\u001b[0m\n\u001b[0m",
            "\u001b[0;32m<ipython-input-9-dde784e2e52f>\u001b[0m in \u001b[0;36mmy_divide\u001b[0;34m()\u001b[0m\n\u001b[1;32m      2\u001b[0m     \u001b[0mx\u001b[0m \u001b[0;34m=\u001b[0m \u001b[0minput\u001b[0m\u001b[0;34m(\u001b[0m\u001b[0;34m'분자의 숫자를 입력하세요 ~ '\u001b[0m\u001b[0;34m)\u001b[0m\u001b[0;34m\u001b[0m\u001b[0;34m\u001b[0m\u001b[0m\n\u001b[1;32m      3\u001b[0m     \u001b[0my\u001b[0m \u001b[0;34m=\u001b[0m \u001b[0minput\u001b[0m\u001b[0;34m(\u001b[0m\u001b[0;34m'분모의 숫자를 입력하세요 ~ '\u001b[0m\u001b[0;34m)\u001b[0m\u001b[0;34m\u001b[0m\u001b[0;34m\u001b[0m\u001b[0m\n\u001b[0;32m----> 4\u001b[0;31m     \u001b[0;32mreturn\u001b[0m \u001b[0mint\u001b[0m\u001b[0;34m(\u001b[0m\u001b[0mx\u001b[0m\u001b[0;34m)\u001b[0m\u001b[0;34m/\u001b[0m\u001b[0mint\u001b[0m\u001b[0;34m(\u001b[0m\u001b[0my\u001b[0m\u001b[0;34m)\u001b[0m\u001b[0;34m\u001b[0m\u001b[0;34m\u001b[0m\u001b[0m\n\u001b[0m\u001b[1;32m      5\u001b[0m \u001b[0;34m\u001b[0m\u001b[0m\n\u001b[1;32m      6\u001b[0m \u001b[0mprint\u001b[0m\u001b[0;34m(\u001b[0m\u001b[0mmy_divide\u001b[0m\u001b[0;34m(\u001b[0m\u001b[0;34m)\u001b[0m\u001b[0;34m)\u001b[0m \u001b[0;31m# 분모에 0 입력시 에러가 뜬다\u001b[0m\u001b[0;34m\u001b[0m\u001b[0;34m\u001b[0m\u001b[0m\n",
            "\u001b[0;31mZeroDivisionError\u001b[0m: division by zero"
          ]
        }
      ]
    },
    {
      "cell_type": "code",
      "source": [
        "def my_divide():\n",
        "    try:\n",
        "        # 문제가 없을 경우 실행할 코드\n",
        "        x = input('분자의 숫자를 입력하세요 ~ ')\n",
        "        y = input('분모의 숫자를 입력하세요 ~ ')\n",
        "        return int(x)/int(y)\n",
        "    except:\n",
        "        # 문제가 생겼을 경우 실행할 코드\n",
        "        return '나누기를 할 수 없습니다'\n",
        "\n",
        "print(my_divide())"
      ],
      "metadata": {
        "colab": {
          "base_uri": "https://localhost:8080/"
        },
        "id": "X5805pKCuK2u",
        "outputId": "4b830804-cae4-4fde-edd5-28c9288dcf25"
      },
      "execution_count": null,
      "outputs": [
        {
          "output_type": "stream",
          "name": "stdout",
          "text": [
            "분자의 숫자를 입력하세요 ~ 5\n",
            "분모의 숫자를 입력하세요 ~ 0\n",
            "나누기를 할 수 없습니다\n"
          ]
        }
      ]
    },
    {
      "cell_type": "code",
      "source": [
        "def disneyland():\n",
        "    try:\n",
        "\t    age = int(input(\"나이를 입력해주세요: \"))\n",
        "    except:\n",
        "        print(\"숫자로 나이를 입력해주세요.\")\n",
        "    else:\n",
        "        # 3세 미만은 공짜\n",
        "        if age < 3:\n",
        "            fee = 0\n",
        "        # 3세~9세: 50,000\n",
        "        elif age >= 3 and age < 10:\n",
        "            fee = 50000\n",
        "        else:\n",
        "            fee = 100000\n",
        "        return fee\n",
        "\n",
        "disneyland()"
      ],
      "metadata": {
        "colab": {
          "base_uri": "https://localhost:8080/"
        },
        "id": "ZYFgrAZAusQt",
        "outputId": "695ff46a-e9b1-4eaf-de81-d115b5744e3d"
      },
      "execution_count": null,
      "outputs": [
        {
          "output_type": "stream",
          "name": "stdout",
          "text": [
            "나이를 입력해주세요: 시러\n",
            "숫자로 나이를 입력해주세요.\n"
          ]
        }
      ]
    },
    {
      "cell_type": "code",
      "source": [
        "def disneyland():\n",
        "    try:\n",
        "\t    age = int(input(\"나이를 입력해주세요: \"))\n",
        "    except ValueError as e:\n",
        "        print(\"숫자로 나이를 입력해주세요.\")\n",
        "        print(e)\n",
        "    else:\n",
        "        # 3세 미만은 공짜\n",
        "        if age < 3:\n",
        "            fee = 0\n",
        "        # 3세~9세: 50,000\n",
        "        elif age >= 3 and age < 10:\n",
        "            fee = 50000\n",
        "        else:\n",
        "            fee = 100000\n",
        "        return fee\n",
        "    finally:\n",
        "        print(\"디즈니 랜드에 오신 것을 환영합니다~!\")\n",
        "\n",
        "disneyland()"
      ],
      "metadata": {
        "colab": {
          "base_uri": "https://localhost:8080/"
        },
        "id": "-dMY_HZxu5dF",
        "outputId": "b43d9575-44ff-4614-bc48-a0a21f7bcc0e"
      },
      "execution_count": null,
      "outputs": [
        {
          "output_type": "stream",
          "name": "stdout",
          "text": [
            "나이를 입력해주세요: 5\n",
            "디즈니 랜드에 오신 것을 환영합니다~!\n"
          ]
        },
        {
          "output_type": "execute_result",
          "data": {
            "text/plain": [
              "50000"
            ]
          },
          "metadata": {},
          "execution_count": 16
        }
      ]
    },
    {
      "cell_type": "code",
      "source": [
        "a = '1'\n",
        "\n",
        "if type(a) != int:\n",
        "    raise Exception('a must be int type') # raise Exception"
      ],
      "metadata": {
        "colab": {
          "base_uri": "https://localhost:8080/",
          "height": 211
        },
        "id": "aF2IRLABvI7s",
        "outputId": "84dbff77-b6cd-4250-be08-dc10b38ea231"
      },
      "execution_count": null,
      "outputs": [
        {
          "output_type": "error",
          "ename": "Exception",
          "evalue": "ignored",
          "traceback": [
            "\u001b[0;31m---------------------------------------------------------------------------\u001b[0m",
            "\u001b[0;31mException\u001b[0m                                 Traceback (most recent call last)",
            "\u001b[0;32m<ipython-input-17-ebe576ea3cda>\u001b[0m in \u001b[0;36m<module>\u001b[0;34m\u001b[0m\n\u001b[1;32m      2\u001b[0m \u001b[0;34m\u001b[0m\u001b[0m\n\u001b[1;32m      3\u001b[0m \u001b[0;32mif\u001b[0m \u001b[0mtype\u001b[0m\u001b[0;34m(\u001b[0m\u001b[0ma\u001b[0m\u001b[0;34m)\u001b[0m \u001b[0;34m!=\u001b[0m \u001b[0mint\u001b[0m\u001b[0;34m:\u001b[0m\u001b[0;34m\u001b[0m\u001b[0;34m\u001b[0m\u001b[0m\n\u001b[0;32m----> 4\u001b[0;31m     \u001b[0;32mraise\u001b[0m \u001b[0mException\u001b[0m\u001b[0;34m(\u001b[0m\u001b[0;34m'a must be int type'\u001b[0m\u001b[0;34m)\u001b[0m \u001b[0;31m# raise Exception\u001b[0m\u001b[0;34m\u001b[0m\u001b[0;34m\u001b[0m\u001b[0m\n\u001b[0m",
            "\u001b[0;31mException\u001b[0m: a must be int type"
          ]
        }
      ]
    },
    {
      "cell_type": "code",
      "source": [
        "# case 1 - None, 빈문자열, 빈리스트, 0을 반환하는 경우를 확인해봅니다.\n",
        "def none_test(num1, num2):\n",
        "    try:\n",
        "        return num1 / num2\n",
        "    except ZeroDivisionError:\n",
        "        return None \n",
        "\n",
        "# result와 None이 같은지 판단함\n",
        "result = none_test(0, 2)\n",
        "print(result) # 0.0\n",
        "if result is None:\n",
        "    print('result is None')\n",
        "\n",
        "# result2와 None이 같은지 판단함\n",
        "result2 = none_test(2, 0)\n",
        "print(result2) # None\n",
        "if result2 is None:\n",
        "    print('result2 is None')\n",
        "\n",
        "# 조건식에서 not을 활용하는 경우,\n",
        "# 파이썬에서는 None, 빈문자열, 빈리스트, 0을 모두 False로 판단한다\n",
        "# result 결과값이 not 0 = True 이므로 아래 print문이 실행된다.\n",
        "if not result:\n",
        "    print('not 0 is True')\n",
        "\n",
        "# result2 결과값이 not None = True 이므로 아래 print문이 실행된다.\n",
        "if not result2:\n",
        "    print('not None is True')"
      ],
      "metadata": {
        "colab": {
          "base_uri": "https://localhost:8080/"
        },
        "id": "81JnDRmovn97",
        "outputId": "9253d264-e83f-42c4-b675-63ce4ba7a33c"
      },
      "execution_count": null,
      "outputs": [
        {
          "output_type": "stream",
          "name": "stdout",
          "text": [
            "0.0\n",
            "None\n",
            "result2 is None\n",
            "not 0 is True\n",
            "not None is True\n"
          ]
        }
      ]
    },
    {
      "cell_type": "code",
      "source": [
        "# case 2 - try, except, else 문을 더 잘 이해할 수 있도록 연습해봅니다.\n",
        "def not_none_return(num1, num2):\n",
        "  try:\n",
        "    # 실행할 코드 블럭\n",
        "    result = num1 / num2\n",
        "  except ZeroDivisionError as z:\n",
        "    # 예외처리 코드 블럭\n",
        "    raise ValueError('숫자 입력값이 잘못된 경우') from z  \n",
        "  else:\n",
        "    # except 절은 만나지 않았을 경우 실행하는 코드 블럭\n",
        "    print(result)\n",
        "\n",
        "not_none_return(0, 2)\n",
        "\n",
        "try:\n",
        "    not_none_return(2, 0)\n",
        "except:\n",
        "    print('해당 숫자로 값을 나눌 수 없습니다. 다시 입력해주세요.')"
      ],
      "metadata": {
        "colab": {
          "base_uri": "https://localhost:8080/"
        },
        "id": "NfH_99icwYXC",
        "outputId": "92e96d11-618e-4beb-d348-885d439ff6b9"
      },
      "execution_count": null,
      "outputs": [
        {
          "output_type": "stream",
          "name": "stdout",
          "text": [
            "0.0\n",
            "해당 숫자로 값을 나눌 수 없습니다. 다시 입력해주세요.\n"
          ]
        }
      ]
    },
    {
      "cell_type": "code",
      "source": [
        "# 실제 실행되는 코드\n",
        "# 가위 : 1, 바위 : 2, 보 : 3, 게임종료 : 0\n",
        "import random\n",
        "\n",
        "while True:\n",
        "    # 유의사항 => 정수형 표기해줘야 함\n",
        "    game_input = int(input(\"가위바위보 중 하나를 입력하세요(0을 입력하면 게임을 종료합니다.) : \")) \n",
        "\n",
        "    # case - 1\n",
        "    # computer_input = random.randrange(1,3)    \n",
        "\n",
        "    # case - 2\n",
        "    test_input = [1,2,3]                       \n",
        "    computer_input = int(random.choice(test_input))\n",
        "\n",
        "    if game_input==1: #가위\n",
        "        if game_input == computer_input:\n",
        "            print('무승부')\n",
        "            \n",
        "        elif game_input - computer_input == -1:\n",
        "            print('사용자 패')\n",
        "            \n",
        "        elif game_input - computer_input == -2:\n",
        "            print('사용자 승')\n",
        "\n",
        "    elif game_input == 2: #바위\n",
        "        if game_input == computer_input:\n",
        "            print('무승부')\n",
        "        elif game_input - computer_input == 1:\n",
        "            print('사용자 승')\n",
        "        elif game_input - computer_input == -1:\n",
        "            print('사용자 패')\n",
        "\n",
        "    elif game_input == 3: #보\n",
        "        if game_input == computer_input:\n",
        "            print('무승부')\n",
        "        elif game_input - computer_input == 2:\n",
        "            print('사용자 패')\n",
        "        elif game_input - computer_input == 1:\n",
        "            print('사용자 승')\n",
        "\n",
        "    elif game_input == 0:\n",
        "        print(\"게임종료\")\n",
        "        break1\n",
        "        "
      ],
      "metadata": {
        "colab": {
          "base_uri": "https://localhost:8080/"
        },
        "id": "2dr7WT8Wxswo",
        "outputId": "5d261028-3a77-48c9-bb4d-394ef1ba14e0"
      },
      "execution_count": null,
      "outputs": [
        {
          "output_type": "stream",
          "name": "stdout",
          "text": [
            "가위바위보 중 하나를 입력하세요(0을 입력하면 게임을 종료합니다.) : 3\n",
            "사용자 승\n",
            "가위바위보 중 하나를 입력하세요(0을 입력하면 게임을 종료합니다.) : 1\n",
            "사용자 승\n",
            "가위바위보 중 하나를 입력하세요(0을 입력하면 게임을 종료합니다.) : 4\n",
            "가위바위보 중 하나를 입력하세요(0을 입력하면 게임을 종료합니다.) : 4\n",
            "가위바위보 중 하나를 입력하세요(0을 입력하면 게임을 종료합니다.) : 5\n",
            "가위바위보 중 하나를 입력하세요(0을 입력하면 게임을 종료합니다.) : 1\n",
            "무승부\n",
            "가위바위보 중 하나를 입력하세요(0을 입력하면 게임을 종료합니다.) : 2\n",
            "사용자 패\n",
            "가위바위보 중 하나를 입력하세요(0을 입력하면 게임을 종료합니다.) : 1\n",
            "사용자 패\n",
            "가위바위보 중 하나를 입력하세요(0을 입력하면 게임을 종료합니다.) : 1\n",
            "사용자 승\n",
            "가위바위보 중 하나를 입력하세요(0을 입력하면 게임을 종료합니다.) : 1\n",
            "사용자 승\n",
            "가위바위보 중 하나를 입력하세요(0을 입력하면 게임을 종료합니다.) : 0\n",
            "게임종료\n"
          ]
        }
      ]
    },
    {
      "cell_type": "code",
      "source": [
        "import random\n",
        "\n",
        "def show_welcome_message():\n",
        "    print(welcome_message)\n",
        "\n",
        "def get_user_choice():\n",
        "    ### [1] 가위   [2] 바위   [3] 보    [9] 게임종료###\n",
        "    return choice_options[int(choice)]\n",
        "\n",
        "def quit_game(사용자승, 무승부, 사용자패):\n",
        "    print(quit_message)\n",
        "    print(\"게임결과\")\n",
        "    print(\"-----\")\n",
        "    ### 사용자승 : \",(사용자승) + \", \" +\"무승부 : \",(무승부) + \", \" +\"사용자패 : \",(사용자패) ###\n",
        "\n",
        "def compare_choices_and_get_result(user, computer):\n",
        "    if user == computer:\n",
        "        print(\"사용자 : \", user_choice, \", \", \"컴퓨터 : \", computer_choice)\n",
        "        return \"무승부\"\n",
        "    elif (user == \"바위\" and computer == \"가위\") or (user == \"보\" and computer == \"바위\") or (user == \"가위\" and computer == \"보\"):\n",
        "        print(\"사용자 : \", user_choice, \", \", \"컴퓨터 : \", computer_choice)\n",
        "        return \"사용자승\"\n",
        "    else:\n",
        "        print(\"사용자 : \", user_choice, \", \", \"컴퓨터 : \", computer_choice)\n",
        "        return \"사용자패\"\n",
        "\n",
        "def display_result_message_and_update_score(result):\n",
        "    if result == \"무승부\":\n",
        "        print(tie_message)\n",
        "        score[\"무승부\"] += 1\n",
        "    elif result == \"사용자승\":\n",
        "        print(win_message)\n",
        "        score[\"사용자승\"] += 1\n",
        "    else:\n",
        "        print(loss_message)\n",
        "        score[\"사용자패\"] += 1\n",
        "\n",
        "score =  {\n",
        "    \"사용자승\": 0,\n",
        "    \"무승부\": 0,\n",
        "    \"사용자패\": 0\n",
        "}\n",
        "\n",
        "welcome_message = \"가위바위보 게임을 시작합니다.\"\n",
        "win_message = \"사용자가 이겼습니다.\"\n",
        "loss_message = \"사용자가 졌습니다.\"\n",
        "tie_message = \"무승부입니다.\"\n",
        "quit_message = \"게임을 종료합니다.\"\n",
        "\n",
        "choice_options = {\n",
        "    1: \"가위\",\n",
        "    2: \"바위\",\n",
        "    3: \"보\",\n",
        "    9: \"게임종료\"\n",
        "}\n",
        "\n",
        "### 게임시작 메시지\n",
        "show_welcome_message()\n",
        "\n",
        "### 첫번째 사용자 선택\n",
        "user_choice = get_user_choice()\n",
        "\n",
        "### 게임수행을 위한 반복문\n",
        "while user_choice != \"게임종료\":\n",
        "    computer_choice = choice_options[random.randint(1, 3)]\n",
        "    result = compare_choices_and_get_result(user_choice, computer_choice)\n",
        "    display_result_message_and_update_score(result)\n",
        "    user_choice = get_user_choice()\n",
        "\n",
        "print('')\n",
        "quit_game(score[\"사용자승\"], score[\"무승부\"], score[\"사용자패\"])"
      ],
      "metadata": {
        "id": "7IS38b2Bn4Tg"
      },
      "execution_count": null,
      "outputs": []
    }
  ]
}