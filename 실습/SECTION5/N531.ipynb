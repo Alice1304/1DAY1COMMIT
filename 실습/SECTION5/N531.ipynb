{
  "nbformat": 4,
  "nbformat_minor": 0,
  "metadata": {
    "colab": {
      "provenance": [],
      "authorship_tag": "ABX9TyPuG3dn7fqB1KNCH4vtrEnx",
      "include_colab_link": true
    },
    "kernelspec": {
      "name": "python3",
      "display_name": "Python 3"
    },
    "language_info": {
      "name": "python"
    }
  },
  "cells": [
    {
      "cell_type": "markdown",
      "metadata": {
        "id": "view-in-github",
        "colab_type": "text"
      },
      "source": [
        "<a href=\"https://colab.research.google.com/github/Alice1304/1day1commit/blob/main/%EC%8B%A4%EC%8A%B5/SECTION5/N531.ipynb\" target=\"_parent\"><img src=\"https://colab.research.google.com/assets/colab-badge.svg\" alt=\"Open In Colab\"/></a>"
      ]
    },
    {
      "cell_type": "code",
      "execution_count": 6,
      "metadata": {
        "colab": {
          "base_uri": "https://localhost:8080/"
        },
        "id": "Q73hLltZLI5a",
        "outputId": "ae4ed341-1389-4425-cd2d-1375c7daa959"
      },
      "outputs": [
        {
          "output_type": "stream",
          "name": "stdout",
          "text": [
            "\u0001\n",
            "&\n",
            "Z\n",
            "0.0004963874816894531\n"
          ]
        }
      ],
      "source": [
        "import time\n",
        "# case 1 - 딕셔너리로 활용되는 해시테이블을 확인할 수 있다.\n",
        "test_dict = {i:chr(i) for i in range(1,91)}\n",
        "\n",
        "time_1 = time.time()\n",
        "print(test_dict[1]) \n",
        "print(test_dict[38])\n",
        "print(test_dict[90])\n",
        "time_2 = time.time()\n",
        "time_interval = time_2 - time_1\n",
        "print(time_interval)"
      ]
    },
    {
      "cell_type": "code",
      "source": [
        "# case 2 - 리스트와 튜플을 활용해서 해시테이블을 확인한다.\n",
        "test_list = [(i,chr(i)) for i in range(1,91)]\n",
        " \n",
        "def insert(item_list, key, value):\n",
        "    item_list.append((key, value))\n",
        " \n",
        "def search(item_list, key):\n",
        "    # 데이터를 검색하려면 딕셔너리보다 오래 걸린다.(키, 값 쌍이 없어서 개별 값으로 반복해서 검색하기 때문이다.)\n",
        "    for item in item_list:\n",
        "        if item[0] == key:\n",
        "            return item[1]      \n",
        "    print('not matching')   \n",
        "\n",
        "time_1 = time.time()\n",
        "print(search(test_list, 33))\n",
        "print(search(test_list, 38))\n",
        "print(search(test_list, 90))\n",
        "time_2 = time.time()\n",
        "time_interval = time_2 - time_1\n",
        "print(time_interval)"
      ],
      "metadata": {
        "colab": {
          "base_uri": "https://localhost:8080/"
        },
        "id": "c-Z1q0NdLf0m",
        "outputId": "7406e346-5b46-4346-eb88-fc44a12b8501"
      },
      "execution_count": 7,
      "outputs": [
        {
          "output_type": "stream",
          "name": "stdout",
          "text": [
            "!\n",
            "&\n",
            "Z\n",
            "0.003305673599243164\n"
          ]
        }
      ]
    },
    {
      "cell_type": "code",
      "source": [
        "# 먼저 값이 없는 딕셔너리를 선언한다.\n",
        "dict = {}\n",
        "\n",
        "# 값추가\n",
        "dict['a'] = 1\n",
        "dict['b'] = 2\n",
        "dict['c'] = 3\n",
        "dict"
      ],
      "metadata": {
        "colab": {
          "base_uri": "https://localhost:8080/"
        },
        "id": "bAOZg0o5Lt0t",
        "outputId": "bff075f3-8a8d-456c-f32d-789019c956b8"
      },
      "execution_count": 8,
      "outputs": [
        {
          "output_type": "execute_result",
          "data": {
            "text/plain": [
              "{'a': 1, 'b': 2, 'c': 3}"
            ]
          },
          "metadata": {},
          "execution_count": 8
        }
      ]
    },
    {
      "cell_type": "code",
      "source": [
        "# 아래와 같이 키를 통해 값을 알 수 있다.\n",
        "dict['c']"
      ],
      "metadata": {
        "colab": {
          "base_uri": "https://localhost:8080/"
        },
        "id": "GIatGaGiMBHe",
        "outputId": "1afe3a74-c451-4ca7-df90-449478ca1165"
      },
      "execution_count": 9,
      "outputs": [
        {
          "output_type": "execute_result",
          "data": {
            "text/plain": [
              "3"
            ]
          },
          "metadata": {},
          "execution_count": 9
        }
      ]
    },
    {
      "cell_type": "code",
      "source": [
        "# 해시테이블에 반복문을 적용시켜보자.\n",
        "for key in dict.keys():\n",
        "    print(dict[key])\n",
        "\n",
        "# (키, 값) 쌍을 출력해본다.\n",
        "for key, value in dict.items():\n",
        "  print('(키:', key, ',', '값:', value, ')')"
      ],
      "metadata": {
        "colab": {
          "base_uri": "https://localhost:8080/"
        },
        "id": "kD-4EdbeMLA1",
        "outputId": "8efffb61-37fe-46af-ed38-c8a7e8a56cb8"
      },
      "execution_count": 10,
      "outputs": [
        {
          "output_type": "stream",
          "name": "stdout",
          "text": [
            "1\n",
            "2\n",
            "3\n",
            "(키: a , 값: 1 )\n",
            "(키: b , 값: 2 )\n",
            "(키: c , 값: 3 )\n"
          ]
        }
      ]
    },
    {
      "cell_type": "code",
      "source": [
        "# 인코딩 예제\n",
        "bytes_representation = \"hello\".encode()\n",
        "\n",
        "for byte in bytes_representation:\n",
        "    print(byte)"
      ],
      "metadata": {
        "colab": {
          "base_uri": "https://localhost:8080/"
        },
        "id": "ckBFqt8AO5YZ",
        "outputId": "055661c3-398c-49ea-a648-d566439594c5"
      },
      "execution_count": 14,
      "outputs": [
        {
          "output_type": "stream",
          "name": "stdout",
          "text": [
            "104\n",
            "101\n",
            "108\n",
            "108\n",
            "111\n"
          ]
        }
      ]
    },
    {
      "cell_type": "code",
      "source": [
        "# 정수값의 합 반환\n",
        "bytes_representation = \"hello\".encode()\n",
        "\n",
        "sum = 0\n",
        "for byte in bytes_representation:\n",
        "    sum += byte\n",
        "\n",
        "print(sum)"
      ],
      "metadata": {
        "colab": {
          "base_uri": "https://localhost:8080/"
        },
        "id": "OXpTW_0SQMeo",
        "outputId": "f21f8ed2-0484-425f-8ecb-b42e171da834"
      },
      "execution_count": 13,
      "outputs": [
        {
          "output_type": "stream",
          "name": "stdout",
          "text": [
            "532\n"
          ]
        }
      ]
    },
    {
      "cell_type": "code",
      "source": [
        "# 해시함수를 만들고 활용해보자.\n",
        "def my_hashing_func(str, list_size):\n",
        "    bytes_representation = str.encode()    \n",
        "    sum = 0\n",
        "    for byte in bytes_representation:\n",
        "        sum += byte\n",
        "\n",
        "    print('sum:', sum)\n",
        "    print('list_size', list_size)\n",
        "    print('sum % list_size:', sum % list_size)\n",
        "    return sum % list_size"
      ],
      "metadata": {
        "id": "9YYusI28QXr4"
      },
      "execution_count": 15,
      "outputs": []
    },
    {
      "cell_type": "code",
      "source": [
        "my_list = [None] * 5"
      ],
      "metadata": {
        "id": "U9TcKRaJQcg3"
      },
      "execution_count": 16,
      "outputs": []
    },
    {
      "cell_type": "code",
      "source": [
        "# 위의 my_hashing_func이라는 해시함수를 활용하여 아래처럼 값을 확인할 수 있다.\n",
        "my_list = [None] * 5\n",
        "\n",
        "# 해시테이블 값을 입력\n",
        "my_list[my_hashing_func(\"aqua\", len(my_list))] = \"#00FFFF\"\n",
        "\n",
        "# 해시테이블 있는 값을 출력\n",
        "print(my_list[my_hashing_func(\"aqua\", len(my_list))])\n",
        "\n",
        "# 전체 해시테이블 출력\n",
        "print(my_list)"
      ],
      "metadata": {
        "colab": {
          "base_uri": "https://localhost:8080/"
        },
        "id": "75dS2-3CQgz2",
        "outputId": "f2fcdf77-a947-49dc-8f3a-dc3d70c51541"
      },
      "execution_count": 17,
      "outputs": [
        {
          "output_type": "stream",
          "name": "stdout",
          "text": [
            "sum: 424\n",
            "list_size 5\n",
            "sum % list_size: 4\n",
            "sum: 424\n",
            "list_size 5\n",
            "sum % list_size: 4\n",
            "#00FFFF\n",
            "[None, None, None, None, '#00FFFF']\n"
          ]
        }
      ]
    },
    {
      "cell_type": "code",
      "source": [
        "# 해시테이블의 기본 구조\n",
        "# 빈 값이 있는 사이즈가 5인 해시테이블을 생성해본다.\n",
        "hashtable = [None] * 5\n",
        "print(hashtable)"
      ],
      "metadata": {
        "colab": {
          "base_uri": "https://localhost:8080/"
        },
        "id": "Ir6vFF0YXy51",
        "outputId": "ffa19e2c-a844-484c-a82a-561fa9b31371"
      },
      "execution_count": 18,
      "outputs": [
        {
          "output_type": "stream",
          "name": "stdout",
          "text": [
            "[None, None, None, None, None]\n"
          ]
        }
      ]
    },
    {
      "cell_type": "code",
      "source": [
        "# 위의 해시테이블과 연결지어 해시함수를 만들어볼 수 있다.\n",
        "def hash_function(key):\n",
        "    return key % len(hashtable)\n",
        " \n",
        "print(hash_function(10))\n",
        "print(hash_function(20))\n",
        "print(hash_function(31))"
      ],
      "metadata": {
        "colab": {
          "base_uri": "https://localhost:8080/"
        },
        "id": "45er_WdbX0XV",
        "outputId": "286e8258-9105-45c8-c121-17392aa0cf5a"
      },
      "execution_count": 19,
      "outputs": [
        {
          "output_type": "stream",
          "name": "stdout",
          "text": [
            "0\n",
            "0\n",
            "1\n"
          ]
        }
      ]
    },
    {
      "cell_type": "code",
      "source": [
        "# 해시테이블에 데이터를 삽입해볼 수 있다.\n",
        "def insert_hash(hashtable, key, value):\n",
        "    hash_key = hash_function(key)\n",
        "    hashtable[hash_key] = value \n",
        "\n",
        "insert_hash(hashtable, 10, 'A')   # 해시함수로 계산되어 0번째 인덱스에 A가 삽입됨\n",
        "print(hashtable)\n",
        " \n",
        "insert_hash(hashtable, 23, 'B')   # 3번째 인덱스에 B가 삽입됨\n",
        "print(hashtable)"
      ],
      "metadata": {
        "colab": {
          "base_uri": "https://localhost:8080/"
        },
        "id": "rPS9wb29X-iM",
        "outputId": "edbf8730-ad30-4f78-a60d-35051a6aecb3"
      },
      "execution_count": 20,
      "outputs": [
        {
          "output_type": "stream",
          "name": "stdout",
          "text": [
            "['A', None, None, None, None]\n",
            "['A', None, None, 'B', None]\n"
          ]
        }
      ]
    },
    {
      "cell_type": "code",
      "source": [
        "# 위의 예시를 활용해서 충돌이 일어나는 상황을 살펴보자.\n",
        "# 현재 0번째 인덱스에 A, 3번째 인덱스에 B가 저장되어있다.\n",
        "# 아래와 같이 해시함수를 통해 계산된 0번째 인덱스에 'Collision' 값을 삽입할 경우, 충돌이 발생한다.\n",
        "# 그리고 'A'값은 'Collision'으로 대체(충돌)된다.\n",
        "insert_hash(hashtable, 20, 'Collision')\n",
        "print(hashtable)"
      ],
      "metadata": {
        "colab": {
          "base_uri": "https://localhost:8080/"
        },
        "id": "BzfdCxpVYDyc",
        "outputId": "fdbfa125-1dde-4b73-dcd7-521a6b7d2407"
      },
      "execution_count": 21,
      "outputs": [
        {
          "output_type": "stream",
          "name": "stdout",
          "text": [
            "['Collision', None, None, 'B', None]\n"
          ]
        }
      ]
    },
    {
      "cell_type": "code",
      "source": [
        "# 체이닝을 예시코드로 배워보자.\n",
        "# 아래와 같이 리스트안에 중첩되는 리스트를 만들어서 연결개념으로 해시테이블을 생성한다.\n",
        "chain_hash_table = [[] for _ in range(10)]  # 이번에는 10의 길이로 테스트를 진행한다.(0~9, 총 10개의 인덱스)\n",
        "print(chain_hash_table)"
      ],
      "metadata": {
        "colab": {
          "base_uri": "https://localhost:8080/"
        },
        "id": "9lMvTMbtY8m8",
        "outputId": "be64ab7f-ec6a-46aa-e523-59d08436841e"
      },
      "execution_count": 22,
      "outputs": [
        {
          "output_type": "stream",
          "name": "stdout",
          "text": [
            "[[], [], [], [], [], [], [], [], [], []]\n"
          ]
        }
      ]
    },
    {
      "cell_type": "code",
      "source": [
        "# 해시함수는 위와 동일하게 테스트할 수 있다.\n",
        "def chain_hash_func(key):\n",
        "    return key % len(chain_hash_table)\n",
        " \n",
        "print(chain_hash_func(10)) \n",
        "print(chain_hash_func(20)) \n",
        "print(chain_hash_func(25))"
      ],
      "metadata": {
        "colab": {
          "base_uri": "https://localhost:8080/"
        },
        "id": "K52gGpY5Y_EM",
        "outputId": "0250ed1c-8c74-4103-d216-98a0ea448e92"
      },
      "execution_count": 23,
      "outputs": [
        {
          "output_type": "stream",
          "name": "stdout",
          "text": [
            "0\n",
            "0\n",
            "5\n"
          ]
        }
      ]
    },
    {
      "cell_type": "code",
      "source": [
        "# append를 활용해서 키-값 쌍을 해시테이블에 삽입한다.\n",
        "def chain_insert_func(chain_hash_table, key, value):\n",
        "    hash_key = chain_hash_func(key)\n",
        "    chain_hash_table[hash_key].append(value)\n",
        "    \n",
        "chain_insert_func(chain_hash_table, 10, 'A')\n",
        "print(chain_hash_table)\n",
        "\n",
        "chain_insert_func(chain_hash_table, 25, 'B')    # 5번째 인덱스에 B가 삽입된다.\n",
        "print(chain_hash_table)\n",
        "\n",
        "# 아래 결과값과 같이 중첩되는 결과값이 있더라도 값이 대체(충돌)되는 것이 아니다.\n",
        "# 리스트 메소드 개념(list.append)이 활용되어 값을 이어 붙인다.('A' -> 'C')\n",
        "chain_insert_func(chain_hash_table, 20, 'C')    \n",
        "print(chain_hash_table)"
      ],
      "metadata": {
        "colab": {
          "base_uri": "https://localhost:8080/"
        },
        "id": "I8dXrZLNZEds",
        "outputId": "93be0765-5adc-4936-9194-2d32d86f6955"
      },
      "execution_count": 24,
      "outputs": [
        {
          "output_type": "stream",
          "name": "stdout",
          "text": [
            "[['A'], [], [], [], [], [], [], [], [], []]\n",
            "[['A'], [], [], [], [], ['B'], [], [], [], []]\n",
            "[['A', 'C'], [], [], [], [], ['B'], [], [], [], []]\n"
          ]
        }
      ]
    }
  ]
}