{
  "nbformat": 4,
  "nbformat_minor": 0,
  "metadata": {
    "colab": {
      "provenance": [],
      "authorship_tag": "ABX9TyMlsLxJ0JqPR/gKmVdtpp9n",
      "include_colab_link": true
    },
    "kernelspec": {
      "name": "python3",
      "display_name": "Python 3"
    },
    "language_info": {
      "name": "python"
    }
  },
  "cells": [
    {
      "cell_type": "markdown",
      "metadata": {
        "id": "view-in-github",
        "colab_type": "text"
      },
      "source": [
        "<a href=\"https://colab.research.google.com/github/Alice1304/1day1commit/blob/main/%EC%8B%A4%EC%8A%B5/SECTION5/N513.ipynb\" target=\"_parent\"><img src=\"https://colab.research.google.com/assets/colab-badge.svg\" alt=\"Open In Colab\"/></a>"
      ]
    },
    {
      "cell_type": "code",
      "execution_count": 2,
      "metadata": {
        "colab": {
          "base_uri": "https://localhost:8080/"
        },
        "id": "8SXuaiFyuxiQ",
        "outputId": "096a7a36-6311-4c52-d381-3f5e006c46b0"
      },
      "outputs": [
        {
          "output_type": "stream",
          "name": "stdout",
          "text": [
            "3\n",
            "77 55 34 exit\n"
          ]
        }
      ],
      "source": [
        "# 인트로 코딩\n",
        "# 난수 다루기(1~100 사이 정수형 난수를 구하자.)\n",
        "# 정수를 입력받고, 입력숫자가 출력될 때까지 입력숫자만큼 반복하여 난수를 출력하고 1개의 종료메시지를 띄우시오.\n",
        "import random\n",
        "\n",
        "input_num = int(input())\n",
        "\n",
        "for i in range(input_num):\n",
        "    ran_num = random.randint(1,100)\n",
        "    print(ran_num, end = ' ')\n",
        "    \n",
        "    if ran_num == input_num:\n",
        "        print(\"input random number print\")\n",
        "        continue\n",
        "else:\n",
        "    print('exit')"
      ]
    },
    {
      "cell_type": "code",
      "source": [
        "# 절차 프로그래밍(Procedural Programming, 일명 PP)\n",
        "# 조건 또는 기능이 증가할 때마다 함수와 변수 같은 요소가 계속 증가할 수 있으므로 비효율적이다.\n",
        "# 케이스 1: 함수활용\n",
        "def carAttribute():\n",
        "    speed = 50\n",
        "    color = 'black'\n",
        "    model = 'CarModel'\n",
        "    return speed,color,model\n",
        "\n",
        "# return값을 통해 함수 요소값을 확인할 수 있다.\n",
        "print(\"Car Attribute: \", carAttribute())\n",
        "\n",
        "# 케이스 2: 변수활용\n",
        "speed = 50\n",
        "color = 'black'\n",
        "model = 'CarModel'\n",
        "\n",
        "# 해당 변수를 각각 명시해주어야 한다.\n",
        "print(\"Car Attribute: \", speed,color,model)"
      ],
      "metadata": {
        "colab": {
          "base_uri": "https://localhost:8080/"
        },
        "id": "0CYStYpvyWkD",
        "outputId": "9aefa189-dd34-4963-c930-c14aa51fa797"
      },
      "execution_count": 3,
      "outputs": [
        {
          "output_type": "stream",
          "name": "stdout",
          "text": [
            "Car Attribute:  (50, 'black', 'CarModel')\n",
            "Car Attribute:  50 black CarModel\n"
          ]
        }
      ]
    },
    {
      "cell_type": "code",
      "source": [
        "# OOP / 기능에 따라 Car클래스 안에 있는 함수와 변수만 추가해주면 된다.\n",
        "# 아래와 같이 클래스 선언 순서에 관계없이 실행된다.\n",
        "# 절차 프로그래밍과 다르게 기능별로 수행되기 때문이다.\n",
        "class Bus:\n",
        "    def __init__(self, speed, color):\n",
        "        self.speed = speed\n",
        "        self.color = color\n",
        "\n",
        "    def drive_bus(self):\n",
        "        self.speed = 70\n",
        "\n",
        "class Car:\n",
        "    def __init__(self, speed, color, model):\n",
        "        self.speed = speed\n",
        "        self.color = color\n",
        "        self.model = model\n",
        "\n",
        "    def drive(self):\n",
        "        self.speed = 50\n",
        "\n",
        "myCar = Car(0, \"green\", \"testCar\")\n",
        "print(\"--------Car Object Create Complete--------\")\n",
        "print(\"Car Speed: \", myCar.speed)\n",
        "print(\"Car Color: \", myCar.color)\n",
        "print(\"Car Model: \", myCar.model)\n",
        "\n",
        "myBus = Bus(0, 'black')\n",
        "print(\"--------Bus Object Create Complete--------\")\n",
        "print(\"Bus color: \", myBus.color)\n",
        "\n",
        "\n",
        "# 운전 중이 아니므로 speed는 0을 출력한다.\n",
        "print(\"--------Car/Bus Speed 1--------\")\n",
        "print(\"Car Speed by drive: \", myCar.speed)\n",
        "print(\"Bus Speed by drive: \", myBus.speed)\n",
        "\n",
        "# Car/Bus object method Call\n",
        "myCar.drive()\n",
        "myBus.drive_bus()\n",
        "\n",
        "# 각각의 개체가 각자의 속도로 움직이고 있다.\n",
        "print(\"--------Car/Bus Speed 2--------\")\n",
        "print(\"Car Speed by drive: \", myCar.speed)\n",
        "print(\"Bus Speed by drive: \", myBus.speed)"
      ],
      "metadata": {
        "colab": {
          "base_uri": "https://localhost:8080/"
        },
        "id": "PI9N9wJiyiyk",
        "outputId": "d3b3b3b3-919f-4ff1-9c8f-a7c47444584d"
      },
      "execution_count": 4,
      "outputs": [
        {
          "output_type": "stream",
          "name": "stdout",
          "text": [
            "--------Car Object Create Complete--------\n",
            "Car Speed:  0\n",
            "Car Color:  green\n",
            "Car Model:  testCar\n",
            "--------Bus Object Create Complete--------\n",
            "Bus color:  black\n",
            "--------Car/Bus Speed 1--------\n",
            "Car Speed by drive:  0\n",
            "Bus Speed by drive:  0\n",
            "--------Car/Bus Speed 2--------\n",
            "Car Speed by drive:  50\n",
            "Bus Speed by drive:  70\n"
          ]
        }
      ]
    },
    {
      "cell_type": "code",
      "source": [
        "# 도서관 예시 - 절차지향적 프로그래밍 관점\n",
        "member_list = ['kim', 'lee', 'park', 'choi']\n",
        "book_list = ['book1', 'book2']\n",
        "lend_list = {'kim' : 'book3'}\n",
        "\n",
        "# 신간이 들어왔다\n",
        "book_list.append('book4')\n",
        "\n",
        "# 책을 빌리면 도서 목록에서 삭제되고, 빌린 목록에 대여한 사람과 함께 추가된다.\n",
        "book_list.remove('book1')\n",
        "lend_list['choi'] = 'book1'\n",
        "\n",
        "# 책을 반납하면 북 리스트에 책이 다시 돌아오고 빌린 리스트에서 삭제된다.\n",
        "book_list.append(lend_list['kim'])\n",
        "del(lend_list['kim'])\n",
        "\n",
        "print(book_list)\n",
        "print(lend_list)"
      ],
      "metadata": {
        "colab": {
          "base_uri": "https://localhost:8080/"
        },
        "id": "TakQXPHsiKIM",
        "outputId": "ab2286c5-4277-42f5-8c69-28e6cccd8e0f"
      },
      "execution_count": 1,
      "outputs": [
        {
          "output_type": "stream",
          "name": "stdout",
          "text": [
            "['book2', 'book4', 'book3']\n",
            "{'choi': 'book1'}\n"
          ]
        }
      ]
    },
    {
      "cell_type": "code",
      "source": [
        "# 캡슐화코드\n",
        "class Encap:\n",
        "    def __init__(self,value):\n",
        "        self.value = value\n",
        "        print('init:', self.value)\n",
        "\n",
        "    def _set(self):\n",
        "        print('set:', self.value)\n",
        "\n",
        "    def printTest(self):\n",
        "        print('printTest:', self.value)\n",
        "\n",
        "    def _printTest2(self):\n",
        "        print('printTest:', self.value)\n",
        "\n",
        "# object 생성\n",
        "e = Encap(10)\n",
        "\n",
        "# object 실행 \n",
        "# 케이스1\n",
        "e.__init__(20)\n",
        "e._set()\n",
        "e.printTest()\n",
        "e._printTest2()\n",
        "print('\\n')\n",
        "\n",
        "# 케이스2\n",
        "e.__init__(30)\n",
        "e._set()\n",
        "e.printTest()"
      ],
      "metadata": {
        "colab": {
          "base_uri": "https://localhost:8080/"
        },
        "id": "JpDneemX6Aht",
        "outputId": "664f5ffc-6216-402e-c140-13216ad68738"
      },
      "execution_count": 17,
      "outputs": [
        {
          "output_type": "stream",
          "name": "stdout",
          "text": [
            "init: 10\n",
            "init: 20\n",
            "set: 20\n",
            "printTest: 20\n",
            "printTest: 20\n",
            "\n",
            "\n",
            "init: 30\n",
            "set: 30\n",
            "printTest: 30\n"
          ]
        }
      ]
    },
    {
      "cell_type": "code",
      "source": [
        "# 상속코드\n",
        "class Person:\n",
        "    def __init__(self, name):\n",
        "        self.name = name\n",
        "        \n",
        "class Student(Person):      # Person 클래스 상속받음(name 변수를 파라미터로 재사용)\n",
        "    def study(self):\n",
        "        print (self.name + \" studies hard\")\n",
        "\n",
        "class Employee(Person):     # Person 클래스 상속받음(name 변수를 파라미터로 재사용)\n",
        "    def work(self):\n",
        "        print (self.name + \" works hard\")\n",
        "\n",
        "# object 생성\n",
        "s = Student(\"Dave\")\n",
        "e = Employee(\"David\")\n",
        "\n",
        "# object 실행\n",
        "s.study()\n",
        "e.work()"
      ],
      "metadata": {
        "colab": {
          "base_uri": "https://localhost:8080/"
        },
        "id": "McC6bD-c8yui",
        "outputId": "99b1ac44-0c21-4339-f8fc-f9a0e5408b84"
      },
      "execution_count": 15,
      "outputs": [
        {
          "output_type": "stream",
          "name": "stdout",
          "text": [
            "Dave studies hard\n",
            "David works hard\n"
          ]
        }
      ]
    },
    {
      "cell_type": "code",
      "source": [
        "# 포함코드\n",
        "class Bill():\n",
        "    def __init__(self, description):\n",
        "        self.description = description\n",
        "\n",
        "class Tail():\n",
        "    def __init__(self, length):\n",
        "        self.length = length\n",
        "\n",
        "class Duck():\n",
        "    def __init__(self, bill, tail):\n",
        "        self.bill = bill\n",
        "        self.tail = tail\n",
        "\n",
        "    def about(self):\n",
        "        print(f\"This duck has a {self.bill.description} and a {self.tail.length}.\")\n",
        "\n",
        "# object 생성\n",
        "duck = Duck(Bill('bill object'), Tail('tail object'))\n",
        "\n",
        "# object 실행\n",
        "duck.about()"
      ],
      "metadata": {
        "colab": {
          "base_uri": "https://localhost:8080/"
        },
        "id": "Vf9zUVrrju40",
        "outputId": "0c515a07-d447-45a0-d095-09677f9b1bb9"
      },
      "execution_count": 2,
      "outputs": [
        {
          "output_type": "stream",
          "name": "stdout",
          "text": [
            "This duck has a bill object and a tail object.\n"
          ]
        }
      ]
    },
    {
      "cell_type": "code",
      "source": [
        "# 포함코드\n",
        "\n",
        "# 클래스 선언\n",
        "class Person:\n",
        "    def __init__(self, name, age):\n",
        "        self.name = name\n",
        "        self.age = age\n",
        "\n",
        "    def printPerson(self, name, age):\n",
        "        print(name, age)\n",
        "\n",
        "class Student:\n",
        "    def __init__(self, name, age, id):\n",
        "        self.person = Person(name, age)\n",
        "        Person.__init__(self, name, age)\n",
        "        self.id = id\n",
        "\n",
        "    def composit_test(self, score, person):\n",
        "        if score > 80:\n",
        "            return (self.person.printPerson('tom', 90))\n",
        "        else:\n",
        "            print (self.name + \" needs supplementary lessons\")\n",
        "\n",
        "\n",
        "# object 생성\n",
        "# 한 번 생성된 object는 파라미터가 변하지 않는 이상 출력값 또한 변하지 않는다.\n",
        "s = Student(\"Dave\", 20, 1)\n",
        "\n",
        "# object 실행\n",
        "print(\"s.age:\", s.name)   # result : Dave\n",
        "print(\"s.age:\", s.age)   # result : 20\n",
        "print(\"s.id:\", s.id)   # result : 1\n",
        "print('\\n')\n",
        "\n",
        "# 객체 하나 더 생성하기\n",
        "s2 = Student(\"Jamie\", 25, 2)\n",
        "print(\"s2.age:\", s2.name)   # result : Jamie\n",
        "print(\"s2.age:\", s2.age)   # result : 25\n",
        "print(\"s2.id:\", s2.id)   # result : 2\n",
        "print('\\n')\n",
        "\n",
        "# 점수입력\n",
        "print('-- test score result --')\n",
        "s.composit_test(90,'tom')\n",
        "s.composit_test(30,'bob')"
      ],
      "metadata": {
        "colab": {
          "base_uri": "https://localhost:8080/"
        },
        "id": "IMV1ehf96Ams",
        "outputId": "06401955-c07c-42ff-96e5-c9ea3f0d73b7"
      },
      "execution_count": 20,
      "outputs": [
        {
          "output_type": "stream",
          "name": "stdout",
          "text": [
            "s.age: Dave\n",
            "s.age: 20\n",
            "s.id: 1\n",
            "\n",
            "\n",
            "s2.age: Jamie\n",
            "s2.age: 25\n",
            "s2.id: 2\n",
            "\n",
            "\n",
            "-- test score result --\n",
            "tom 90\n",
            "Dave needs supplementary lessons\n"
          ]
        }
      ]
    },
    {
      "cell_type": "code",
      "source": [
        "# 추상클래스로 선언해놓고 상속받는 클래스에서 구현하지 않으면 오류 발생\n",
        "from abc import ABCMeta, abstractmethod\n",
        "\n",
        "# 추상 클래스\n",
        "class People(metaclass=ABCMeta):\n",
        "    # 추상 메소드\n",
        "    \n",
        "    def character(self):\n",
        "        pass\n",
        "\n",
        "    @abstractmethod\n",
        "    def working(self):\n",
        "        pass\n",
        "  \n",
        "# 상속받는 클래스\n",
        "class Student(People):\n",
        "    def character(self, pow, int):\n",
        "        self.pow = pow\n",
        "        self.int = int\n",
        "\n",
        "        print('체력: {0}'.format(self.pow))\n",
        "        print('지능: {0}'.format(self.int))\n",
        "\n",
        "# 상속받는 클래스 2 : character 추상 메소드 구현 하지 않음\n",
        "class Driver(People):\n",
        "    def working(self):\n",
        "        print('일하는 중')\n",
        "\n",
        "# Student object 생성 \n",
        "# s1 = Student()\n",
        "# print('Student: ')\n",
        "\n",
        "# # Student object 실행\n",
        "# s1.character(10, 100)\n",
        "# print(s1.int)\n",
        "\n",
        "# Driver object 생성\n",
        "d1 = Driver()\n",
        "d1.working()\n",
        "print(d1)\n",
        "# 이 코드는 추상 메소드로 선언했던 character를 구현해주지 않았기 때문에 오류가 발생합니다!"
      ],
      "metadata": {
        "colab": {
          "base_uri": "https://localhost:8080/"
        },
        "id": "vHALKwbJmVRB",
        "outputId": "3c02b3a5-4b7e-4914-ce8a-9650c78ec53d"
      },
      "execution_count": 9,
      "outputs": [
        {
          "output_type": "stream",
          "name": "stdout",
          "text": [
            "일하는 중\n",
            "<__main__.Driver object at 0x7f5cd77c9910>\n"
          ]
        }
      ]
    },
    {
      "cell_type": "code",
      "source": [
        "class Slimes:\n",
        "    def __init__(self):\n",
        "        self.hp = 100\n",
        "        self.attack_power = 50\n",
        "    def get_damage(self):\n",
        "        self.hp -= self.attack_power\n",
        "        if self.hp <= 0:\n",
        "            self.hp = 0\n",
        "            print('Slime is dead!!!')\n",
        "           \n",
        "        \n",
        "class Slime_Yellow(Slimes):\n",
        "    pass\n",
        "\n",
        "class Slime_Blue(Slimes):\n",
        "    def __init__(self):\n",
        "        super().__init__()\n",
        "        self.attack_power = int(self.attack_power * 0.8)\n",
        "    def get_damage(self):\n",
        "        self.hp -= self.attack_power\n",
        "        if self.hp <= 0:\n",
        "            self.hp = 0\n",
        "            print('Blue Slime is dead!!! You get 100 Gold')\n",
        "\n",
        "\n",
        "class Slime_Purple(Slimes):\n",
        "    def __init__(self):\n",
        "        super().__init__()\n",
        "        self.attack_power = int(self.attack_power * 0.5)\n",
        "        self.alive = True\n",
        "    def get_damage(self):\n",
        "      if self.alive:\n",
        "        self.hp -= self.attack_power\n",
        "        if self.hp <= 0:\n",
        "            self.hp = 0\n",
        "            print('Purple Slime is dead!!!, You get 300 Gold')\n",
        "            self.alive = False\n",
        "      else:\n",
        "        print('slime is already dead..')"
      ],
      "metadata": {
        "id": "PFHFN85wn7Bf"
      },
      "execution_count": 46,
      "outputs": []
    },
    {
      "cell_type": "code",
      "source": [
        "Slime_3 = Slime_Purple()\n",
        "# 슬라임 제거하기: hp=0 만들기\n",
        "Slime_3.get_damage()\n",
        "print('Slime_3 hp:',Slime_3.hp)\n",
        "Slime_3.get_damage()\n",
        "print('Slime_3 hp:',Slime_3.hp)\n",
        "Slime_3.get_damage()\n",
        "print('Slime_3 hp:',Slime_3.hp)\n",
        "Slime_3.get_damage()\n",
        "print('Slime_3 hp:',Slime_3.hp)\n",
        "Slime_3.get_damage()\n",
        "print('Slime_3 hp:',Slime_3.hp)"
      ],
      "metadata": {
        "colab": {
          "base_uri": "https://localhost:8080/"
        },
        "id": "0UsAzNDowU3w",
        "outputId": "3f739f61-25da-4b19-98e7-75df4fa2e4ee"
      },
      "execution_count": 47,
      "outputs": [
        {
          "output_type": "stream",
          "name": "stdout",
          "text": [
            "Slime_3 hp: 75\n",
            "Slime_3 hp: 50\n",
            "Slime_3 hp: 25\n",
            "Purple Slime is dead!!!, You get 300 Gold\n",
            "Slime_3 hp: 0\n",
            "slime is already dead..\n",
            "Slime_3 hp: 0\n"
          ]
        }
      ]
    },
    {
      "cell_type": "code",
      "source": [
        "# 오해하지 않도록 코드를 작성하자.\n",
        "# foo: 프로그래밍 상에서 임시로 변수이름을 지정해줘야 할 때 주로 쓰이는 변수 이름이다.\n",
        "foo = ''\n",
        "\n",
        "# 가독성 좋음\n",
        "if foo is not None: # 한 번만 해석하면 된다. (A는 B가 아니다.)\n",
        "    print('가독성 좋음')\n",
        "\n",
        "# 가독성 좋지 않음\n",
        "if not foo is None: # 두 번 해석해야된다. (A가 아닌 것은 None이다.)\n",
        "    print('가독성 좋지 않음')"
      ],
      "metadata": {
        "colab": {
          "base_uri": "https://localhost:8080/"
        },
        "id": "P5W7eHDJyu9k",
        "outputId": "896c7db8-8379-4f8c-a0c9-9206c1136eeb"
      },
      "execution_count": 48,
      "outputs": [
        {
          "output_type": "stream",
          "name": "stdout",
          "text": [
            "가독성 좋음\n",
            "가독성 좋지 않음\n"
          ]
        }
      ]
    },
    {
      "cell_type": "code",
      "source": [
        "# 기본이 될 수 있는 User 클래스 생성\n",
        "\n",
        "class User:\n",
        "    def __init__(self, name, is_admin=False):\n",
        "        self.name = name\n",
        "        self.is_admin = is_admin"
      ],
      "metadata": {
        "id": "pIsHleUP26Wx"
      },
      "execution_count": 49,
      "outputs": []
    },
    {
      "cell_type": "code",
      "source": [
        "# User로부터 상속받는 3개의 클래스를 정의\n",
        "\"\"\"\n",
        "부모 클래스에서 정의한 함수와 변수는 자식 클래스에서 정의한 것처럼 사용할 수 있습니다.\n",
        "\n",
        "부모 클래스에서 정의한 함수와 자식 클래스에서 정의한 함수 이름이 같은 경우,\n",
        "부모 클래스의 함수를 호출하려면 두 가지 방법 중 하나를 사용해야 합니다.\n",
        "1) 부모클래스명.함수명()\n",
        "2) super().함수명()\n",
        "\n",
        "즉, super()는 자식클래스에서 부모클래스에 있는 함수를 사용하고 싶고,\n",
        "플러스 해당 함수명이 자식클래스에 중복되어 있을 때 사용할 수 있는 코드입니다.\n",
        "\"\"\"\n",
        "\n",
        "class User:\n",
        "    def __init__(self, name, is_admin=False):\n",
        "        self.name = name\n",
        "        self.is_admin = is_admin\n",
        "\n",
        "class Admin(User):\n",
        "    def __init__(self, name):\n",
        "        super().__init__(name, is_admin=True)\n",
        "\n",
        "# 부모 클래스(User)로부터 상속을 받으려면 클래스를 선언할 때,\n",
        "# 클래스 이름 다음에 있는 소괄호 안에 부모 클래스의 이름을 넣어주면 됩니다.\n",
        "\n",
        "class Customer(User):\n",
        "    def __init__(self, name):\n",
        "        super().__init__(name)\n",
        "        self.purchases = []\n",
        "\n",
        "class Vendor(User):\n",
        "    def __init__(self, name):\n",
        "        super().__init__(name)\n",
        "        self.products = []"
      ],
      "metadata": {
        "id": "0iM6u26Z276o"
      },
      "execution_count": 50,
      "outputs": []
    },
    {
      "cell_type": "code",
      "source": [
        "# 위의 코드에서 제품(Product)과 구매(Purchase) 클래스 생성 코드 추가\n",
        "from datetime import datetime\n",
        "\n",
        "class User:\n",
        "    def __init__(self, name, is_admin=False):\n",
        "        self.name = name\n",
        "        self.is_admin = is_admin\n",
        "\n",
        "class Admin(User):\n",
        "    def __init__(self, name):\n",
        "        super().__init__(name, is_admin=True)\n",
        "\n",
        "class Customer(User):\n",
        "    def __init__(self, name):\n",
        "        super().__init__(name)\n",
        "        self.purchases = []\n",
        "\n",
        "class Vendor(User):\n",
        "    def __init__(self, name):\n",
        "        super().__init__(name)\n",
        "        self.products = []\n",
        "\n",
        "class Product:\n",
        "    def __init__(self, name, price, vendor):\n",
        "        self.name = name\n",
        "        self.price = price\n",
        "        self.vendor = vendor\n",
        "\n",
        "class Purchase:\n",
        "    def __init__(self, product, customer):\n",
        "        self.product = product\n",
        "        self.customer = customer\n",
        "        self.purchase_price = product.price\n",
        "        self.purchase_data = datetime.now()"
      ],
      "metadata": {
        "id": "LBztw6hs3Xah"
      },
      "execution_count": null,
      "outputs": []
    },
    {
      "cell_type": "code",
      "source": [
        "\"\"\"\n",
        "현재 생성된 클래스: User(Admin, Customer, Vendor), Product, Purchase\n",
        "\n",
        "1) 고객(Customer): 제품(Product)을 구매(Purchase)하는 행동\n",
        "   => Customer 클래스에 purchase_product 메소드 추가\n",
        "\n",
        "2) 공급업체(Vendor): 제품(Product)을 생산(Product)하는 행동\n",
        "   => Vendor 클래스에 create_product 메소드 추가\n",
        "\"\"\"\n",
        "from datetime import datetime\n",
        "\n",
        "class User:\n",
        "    def __init__(self, name, is_admin=False):\n",
        "        self.name = name\n",
        "        self.is_admin = is_admin\n",
        "\n",
        "class Admin(User):\n",
        "    def __init__(self, name):\n",
        "        super().__init__(name, is_admin=True)\n",
        "\n",
        "class Customer(User):\n",
        "    def __init__(self, name):\n",
        "        super().__init__(name)\n",
        "        self.purchases = []\n",
        "    # 함수 추가\n",
        "    def purchase_product(self, product):\n",
        "        purchase = Purchase(product, self)\n",
        "        self.purchases.append(purchase)\n",
        "\n",
        "class Vendor(User):\n",
        "    def __init__(self, name):\n",
        "        super().__init__(name)\n",
        "        self.products = []\n",
        "    # 함수 추가\n",
        "    def create_product(self, product_name, product_price):\n",
        "        product = Product(product_name, product_price, self)\n",
        "        self.products.append(product)\n",
        "\n",
        "# 모델링을 위한 추가 소스코드\n",
        "class Product:\n",
        "    def __init__(self, name, price, vendor):\n",
        "        self.name = name\n",
        "        self.price = price\n",
        "        self.vendor = vendor\n",
        "\n",
        "class Purchase:\n",
        "    def __init__(self, product, customer):\n",
        "        self.product = product\n",
        "        self.customer = customer\n",
        "        self.purchase_price = product.price\n",
        "        self.purchase_data = datetime.now()"
      ],
      "metadata": {
        "id": "O6Ozrp9_3jK4"
      },
      "execution_count": 51,
      "outputs": []
    },
    {
      "cell_type": "code",
      "source": [
        "--------------------------"
      ],
      "metadata": {
        "id": "EjTbfVFDAHEY"
      },
      "execution_count": null,
      "outputs": []
    },
    {
      "cell_type": "code",
      "source": [
        "#2\n",
        "class Bus:\n",
        "    def drive_bus(self):\n",
        "        self.speed = 70\n",
        "\n",
        "    def set_bus(self, speed, color, model):\n",
        "        self.speed = speed\n",
        "        self.color = color\n",
        "        self.model = model\n",
        "\n",
        "myBus = Bus()\n",
        "myBus.set_bus(70, 'red', 'bus')\n",
        "\n",
        "print(myBus.speed)\n",
        "print(myBus.color)\n",
        "print(myBus.model)\n",
        "\n",
        "#70\n",
        "#red\n",
        "#bus"
      ],
      "metadata": {
        "id": "XHhzZWyLAICv"
      },
      "execution_count": null,
      "outputs": []
    },
    {
      "cell_type": "code",
      "source": [
        "# Bus #1\n",
        "class Bus:\n",
        "    #def __init__(self, speed, color):\n",
        "        #self.speed = speed\n",
        "        #self.color = color\n",
        "\n",
        "    def drive_bus(self):\n",
        "        self.speed = 70\n",
        "\n",
        "myBus = Bus()\n",
        "myBus.speed = 0.7\n",
        "print(myBus.speed) # 0.7"
      ],
      "metadata": {
        "id": "7ykbZHj4AIf_"
      },
      "execution_count": null,
      "outputs": []
    },
    {
      "cell_type": "code",
      "source": [
        "class Point:\n",
        "    def __init__(self, x, y):\n",
        "        self.x = x\n",
        "        self.y = y\n",
        "        self.__private_name = \"private 접근\"\n",
        "\n",
        "class Point_sub(Point):\n",
        "    def __init__(self,x, y):\n",
        "        Point.__init__(self,x,y)\n",
        "        self.x = x\n",
        "        self.y = y\n",
        "\n",
        "    def __sub(self):\n",
        "        self.__x = 10\n",
        "        self.__y = 20\n",
        "\n",
        "    def sub(self):\n",
        "        self.__sub()\n",
        "        print(self.__x)\n",
        "        print(self.__y)\n",
        " \n",
        "my_point = Point(1, 2)\n",
        "my_point_sub = Point_sub(10,20)\n",
        "\n",
        "# case 1 - error case: private 으로 해당코드로 접근할 수 없다\n",
        "# print(my_point.__private_name)\n",
        "\n",
        "# case 2\n",
        "# 클래스 생성자에 있는 private변수에 접근하기위해 '_클래스이름__private변수' 를 활용한다.\n",
        "print(my_point._Point__private_name)\n",
        "\n",
        "# case 3\n",
        "print('case3 ------------')\n",
        "my_point_sub.sub()    # 변환된 이름에 대해 값 출력"
      ],
      "metadata": {
        "colab": {
          "base_uri": "https://localhost:8080/"
        },
        "id": "NcZr4_QREKqQ",
        "outputId": "fff361e0-c124-414d-8ea4-0e55465ac72c"
      },
      "execution_count": 1,
      "outputs": [
        {
          "output_type": "stream",
          "name": "stdout",
          "text": [
            "private 접근\n",
            "case3 ------------\n",
            "10\n",
            "20\n"
          ]
        }
      ]
    },
    {
      "cell_type": "code",
      "source": [
        "class A(object):\n",
        "    def __init__(self):\n",
        "        self.__X = 3        # self._A__X 로 변환\n",
        "\n",
        "    def __test(self):     # _A__test() 로 변환\n",
        "        print('self.__X' ,self.__X)\n",
        "\n",
        "    def bast(self):\n",
        "        self.__test()\n",
        "\n",
        "class B(A):\n",
        "    def __init__(self):\n",
        "        A.__init__(self)\n",
        "        self.__X = 20       # self._B__X 로 변환\n",
        "\n",
        "    def __test(self):     # _B__test() 로 변환\n",
        "        print(self.__X)\n",
        "\n",
        "    def bast(self):\n",
        "        self.__test()\n",
        "\n",
        "# 객체 생성\n",
        "a = A()\n",
        "\n",
        "# 오류 발생 코드\n",
        "# a.__test()\n",
        "# print(a.__X)\n",
        "\n",
        "# private 메소드 접근방법\n",
        "print('a ----------------------')\n",
        "# 1) 변형된 이름을 통해 접근가능: '_클래스이름__private메소드'\n",
        "a._A__test()\n",
        "\n",
        "# 2) 우회경로로 접근가능\n",
        "a.bast()\n",
        "\n",
        "# 객체 생성\n",
        "b = B()\n",
        "\n",
        "# 오류 발생 코드\n",
        "# b.__test()\n",
        "# print(b.__X)\n",
        "\n",
        "# private 메소드 접근\n",
        "# 1) 변형된 이름을 통해 접근가능: '_클래스이름__private메소드'\n",
        "print('b ----------------------')\n",
        "b._B__test()\n",
        "\n",
        "# 2) 우회경로로 접근가능\n",
        "b.bast()\n",
        "\n",
        "# __X 변수 접근\n",
        "print('X ----------------------')\n",
        "print(a._A__X)\n",
        "print(b._A__X)\n",
        "print(b._B__X)\n",
        "\n",
        "# 오류 발생 코드\n",
        "# print(a._B__X)\n",
        "\n",
        "# 상속을 받았기 때문에 B클래스의 인스턴스에서 A클래스의 함수와 변수도 확인가능하다.\n",
        "# dir(객체): 파이썬 내장메소드로 해당 객체가 어떤 변수와 메소드를 가지고 있는지 나열\n",
        "print('------------------------')\n",
        "print('[부모클래스 A를 사용해 생성한 객체 a의 변수와 메소드]')\n",
        "print(dir(a))\n",
        "\n",
        "print('[부모클래스 B를 사용해 생성한 객체 b의 변수와 메소드]')\n",
        "print(dir(b))"
      ],
      "metadata": {
        "colab": {
          "base_uri": "https://localhost:8080/"
        },
        "id": "eIaKuAf5FQom",
        "outputId": "1278e10e-8864-493d-bb15-2d6b8f755d1c"
      },
      "execution_count": 2,
      "outputs": [
        {
          "output_type": "stream",
          "name": "stdout",
          "text": [
            "a ----------------------\n",
            "self.__X 3\n",
            "self.__X 3\n",
            "b ----------------------\n",
            "20\n",
            "20\n",
            "X ----------------------\n",
            "3\n",
            "3\n",
            "20\n",
            "------------------------\n",
            "[부모클래스 A를 사용해 생성한 객체 a의 변수와 메소드]\n",
            "['_A__X', '_A__test', '__class__', '__delattr__', '__dict__', '__dir__', '__doc__', '__eq__', '__format__', '__ge__', '__getattribute__', '__gt__', '__hash__', '__init__', '__init_subclass__', '__le__', '__lt__', '__module__', '__ne__', '__new__', '__reduce__', '__reduce_ex__', '__repr__', '__setattr__', '__sizeof__', '__str__', '__subclasshook__', '__weakref__', 'bast']\n",
            "[부모클래스 B를 사용해 생성한 객체 b의 변수와 메소드]\n",
            "['_A__X', '_A__test', '_B__X', '_B__test', '__class__', '__delattr__', '__dict__', '__dir__', '__doc__', '__eq__', '__format__', '__ge__', '__getattribute__', '__gt__', '__hash__', '__init__', '__init_subclass__', '__le__', '__lt__', '__module__', '__ne__', '__new__', '__reduce__', '__reduce_ex__', '__repr__', '__setattr__', '__sizeof__', '__str__', '__subclasshook__', '__weakref__', 'bast']\n"
          ]
        }
      ]
    },
    {
      "cell_type": "code",
      "source": [
        "# 속성충돌\n",
        "class parent_class:\n",
        "    def __init__(self):\n",
        "        self.value = 30     # public\n",
        "        self._value = 40    # protected\n",
        "        self.__value = 50   # private\n",
        "\n",
        "    def get(self):\n",
        "        return self.value\n",
        "\n",
        "class sub_class(parent_class):\n",
        "    def __init__(self):\n",
        "        super().__init__()\n",
        "        self.__value = 20    # 위의 parent_class의 _value와 충돌(값의 중복)발생\n",
        "\n",
        "s = sub_class()\n",
        "print(s.value) # public\n",
        "print(s._value) # protected\n",
        "\n",
        "# '_클래스이름__private변수'\n",
        "print('----- 어떤 클래스에서 값을 받아오냐에 따라 값의 정보가 바뀜 -----')\n",
        "print(s._parent_class__value)\n",
        "print(s._sub_class__value)\n",
        "print('parent_class value:', s.get(), ', sub_class value:', s.value)"
      ],
      "metadata": {
        "colab": {
          "base_uri": "https://localhost:8080/"
        },
        "id": "b6F8aruBFX2N",
        "outputId": "8f1d92a7-3a74-4f13-e224-e7c81e6e2948"
      },
      "execution_count": 3,
      "outputs": [
        {
          "output_type": "stream",
          "name": "stdout",
          "text": [
            "30\n",
            "40\n",
            "----- 어떤 클래스에서 값을 받아오냐에 따라 값의 정보가 바뀜 -----\n",
            "50\n",
            "20\n",
            "parent_class value: 30 , sub_class value: 30\n"
          ]
        }
      ]
    },
    {
      "cell_type": "code",
      "source": [
        "# 가장 기본적인 클래스를 생성해보고 값을 확인해본다.\n",
        "\n",
        "class MyFirstClass:\n",
        "    pass\n",
        "\n",
        "a = MyFirstClass()  # 인스턴스화(메모리할당됨)\n",
        "\n",
        "print(a)    # 주소값은 일반적인 정수값과 다르게 나온다."
      ],
      "metadata": {
        "colab": {
          "base_uri": "https://localhost:8080/"
        },
        "id": "GmeEkKudGLYV",
        "outputId": "6c8f2842-1f25-4c4e-bf3a-45f7b0584430"
      },
      "execution_count": 4,
      "outputs": [
        {
          "output_type": "stream",
          "name": "stdout",
          "text": [
            "<__main__.MyFirstClass object at 0x7fb0ba24e710>\n"
          ]
        }
      ]
    },
    {
      "cell_type": "code",
      "source": [
        "class Bicycle():\n",
        "    def exclaim(self):\n",
        "        print(\"부모클래스 자전거\")\n",
        "\n",
        "class Specialized(Bicycle):            # 부모클래스를 상속받음\n",
        "    def exclaim(self, specialized):    # 메소드 오버라이딩(specialized 파라미터 추가, return 추가)\n",
        "        print(\"자식클래스 재정의:\", specialized)\n",
        "        return 'return 자식클래스 재정의: ' + specialized\n",
        "\n",
        "a_bike = Bicycle()\n",
        "a_specialized = Specialized()\n",
        "\n",
        "# 출력1 - 부모클래스 메소드\n",
        "print('출력1:')\n",
        "a_bike.exclaim()\n",
        "print('\\n')\n",
        "\n",
        "# 출력2 - 오버라이딩된 자식클래스 메소드(파라미터 추가, return 추가)\n",
        "print('출력2:')\n",
        "a_specialized.exclaim('specialized test')"
      ],
      "metadata": {
        "colab": {
          "base_uri": "https://localhost:8080/",
          "height": 144
        },
        "id": "gp4n_39CGvad",
        "outputId": "941a01e4-f6b4-4ac9-e3d5-1cf23058a8b8"
      },
      "execution_count": 5,
      "outputs": [
        {
          "output_type": "stream",
          "name": "stdout",
          "text": [
            "출력1:\n",
            "부모클래스 자전거\n",
            "\n",
            "\n",
            "출력2:\n",
            "자식클래스 재정의: specialized test\n"
          ]
        },
        {
          "output_type": "execute_result",
          "data": {
            "text/plain": [
              "'return 자식클래스 재정의: specialized test'"
            ],
            "application/vnd.google.colaboratory.intrinsic+json": {
              "type": "string"
            }
          },
          "metadata": {},
          "execution_count": 5
        }
      ]
    },
    {
      "cell_type": "code",
      "source": [
        "class Bicycle():\n",
        "    def exclaim(self):  \n",
        "        print(\"부모클래스 자전거\")\n",
        "\n",
        "class Specialized(Bicycle): # 부모클래스를 상속받음\n",
        "    def exclaim(self):    # 메소드 오버라이딩\n",
        "        super().exclaim() # super는 위의 부모클래스 메소드를 그대로 활용한다.\n",
        "        print('super를 활용한 부모클래스의 메소드입니다.')\n",
        "\n",
        "a_bike = Bicycle()\n",
        "a_specialized = Specialized()\n",
        "\n",
        "# 출력1 - 부모클래스 메소드\n",
        "print('출력1:')\n",
        "a_bike.exclaim()\n",
        "print('\\n')\n",
        "\n",
        "# 출력2 - super : 부모클래스 메소드 그대로 활용\n",
        "print('출력2:')\n",
        "a_specialized.exclaim()"
      ],
      "metadata": {
        "colab": {
          "base_uri": "https://localhost:8080/"
        },
        "id": "BtkUbMZbHEj0",
        "outputId": "9264f115-a9db-4871-cd52-7f73b82099d1"
      },
      "execution_count": 6,
      "outputs": [
        {
          "output_type": "stream",
          "name": "stdout",
          "text": [
            "출력1:\n",
            "부모클래스 자전거\n",
            "\n",
            "\n",
            "출력2:\n",
            "부모클래스 자전거\n",
            "super를 활용한 부모클래스의 메소드입니다.\n"
          ]
        }
      ]
    },
    {
      "cell_type": "code",
      "source": [
        "class Student:    # 부모클래스\n",
        "    def __init__(self, name):\n",
        "        self.name = name\n",
        "        print(self.name)\n",
        "\n",
        "class Graduate(Student):    # 부모클래스 상속받음\n",
        "    def __init__(self, name, graduation_date): \n",
        "        super().__init__(name)   # super를 활용하여 부모 메소드를 호출하여 name 매개변수 재사용(super를 사용하면 부모클래스의 상속받는다는 것을 의미함)\n",
        "        self.graduation_date = graduation_date\n",
        "\n",
        "print('출력1: ', end = '')\n",
        "a_student = Student('James')\n",
        "print('출력2: ', end='')\n",
        "a_graduate = Graduate('Jack', 11)\n",
        "print('출력3: ', end='')\n",
        "a_student.__init__('John')\n",
        "print('출력4: ', end='')\n",
        "a_graduate.__init__('Peter', 11)\n",
        "\n",
        "print('출력5: ', end='')\n",
        "print(a_student.name)\n",
        "\n",
        "print('출력6: ', end='')\n",
        "print(a_graduate.name, end=' ')\n",
        "print(a_graduate.graduation_date)"
      ],
      "metadata": {
        "colab": {
          "base_uri": "https://localhost:8080/"
        },
        "id": "UqjOXe9uHRuE",
        "outputId": "df9570da-669c-4d82-f6af-170fbe169eab"
      },
      "execution_count": 9,
      "outputs": [
        {
          "output_type": "stream",
          "name": "stdout",
          "text": [
            "출력1: James\n",
            "출력2: Jack\n",
            "출력3: John\n",
            "출력4: Peter\n",
            "출력5: John\n",
            "출력6: Peter 11\n"
          ]
        }
      ]
    },
    {
      "cell_type": "code",
      "source": [
        "# range보다는 enumerate를 사용한다.\n",
        "# range 내장 함수는 정수집합을 반복하는 상황에서 유용하다.\n",
        "# 하지만 리스트에 대해서 특정 인덱스에 따라 반복을 하는 경우, list의 길이를 알아야하고(len함수 써야함), \n",
        "# 인덱스를 사용해 배열원소에 접근해야 한다.(index함수 써야함)\n",
        "\n",
        "# case 1 - range를 통한 반복\n",
        "fla_list = ['A', 'B', 'C', 'D']\n",
        "len_list = len(fla_list)            # len을 통해 리스트 길이 확인\n",
        "index_list = fla_list.index('B')    # index를 통해 배열원소 접근\n",
        "\n",
        "for i in range(0, len_list):\n",
        "    print('range with len method:', i)\n",
        "\n",
        "print('index method : ', index_list)"
      ],
      "metadata": {
        "colab": {
          "base_uri": "https://localhost:8080/"
        },
        "id": "jt_kYZdsJPZr",
        "outputId": "01b7a827-5664-4b97-9f5a-feb567f53098"
      },
      "execution_count": 10,
      "outputs": [
        {
          "output_type": "stream",
          "name": "stdout",
          "text": [
            "range with len method: 0\n",
            "range with len method: 1\n",
            "range with len method: 2\n",
            "range with len method: 3\n",
            "index method :  1\n"
          ]
        }
      ]
    },
    {
      "cell_type": "code",
      "source": [
        "# 리스트 반복의 경우 enumerate 내장함수를 사용해보는게 좋다.\n",
        "# case 2 - enumerate 활용\n",
        "fla_list = ['A', 'B', 'C', 'D']\n",
        "enu_list = enumerate(fla_list)\n",
        "# print(enu_list)\n",
        "print(next(enu_list))\n",
        "print(next(enu_list))\n",
        "print('\\n')\n",
        "\n",
        "# enumerate는 인덱스와 값을 함께 출력해주기 때문에 상황에 따라 다양하게 활용해볼 수 있다.\n",
        "for i, enu_list in enumerate(fla_list):\n",
        "    print(f'{i+1}: {enu_list}')"
      ],
      "metadata": {
        "colab": {
          "base_uri": "https://localhost:8080/"
        },
        "id": "WGmx5V-7JY6a",
        "outputId": "54280df4-e2bd-41d0-e672-565bd49b4e00"
      },
      "execution_count": 11,
      "outputs": [
        {
          "output_type": "stream",
          "name": "stdout",
          "text": [
            "(0, 'A')\n",
            "(1, 'B')\n",
            "\n",
            "\n",
            "1: A\n",
            "2: B\n",
            "3: C\n",
            "4: D\n"
          ]
        }
      ]
    },
    {
      "cell_type": "code",
      "source": [
        "# 위의 방법을 range로 해보고 비교해보자.\n",
        "for i in range(0, len(fla_list)):\n",
        "    fla = fla_list[i]\n",
        "    print(f'{i+1}: {fla}')"
      ],
      "metadata": {
        "colab": {
          "base_uri": "https://localhost:8080/"
        },
        "id": "CfxJ8YUFJiD5",
        "outputId": "789b26b9-ee94-4502-c1d4-e4a810f5ecef"
      },
      "execution_count": 12,
      "outputs": [
        {
          "output_type": "stream",
          "name": "stdout",
          "text": [
            "1: A\n",
            "2: B\n",
            "3: C\n",
            "4: D\n"
          ]
        }
      ]
    },
    {
      "cell_type": "code",
      "source": [
        "#discussion\n",
        "\n"
      ],
      "metadata": {
        "id": "ODwmmKtuHSgC"
      },
      "execution_count": null,
      "outputs": []
    },
    {
      "cell_type": "code",
      "source": [
        "# Bus #1\n",
        "class Bus:\n",
        "    #def __init__(self, speed, color):\n",
        "        #self.speed = speed\n",
        "        #self.color = color\n",
        "\n",
        "    def drive_bus(self):\n",
        "        self.speed = 70\n",
        "\n",
        "myBus = Bus()\n",
        "myBus.speed = 0.7\n",
        "print(myBus.speed)\n",
        "# 0.7"
      ],
      "metadata": {
        "id": "Hx7rMbodHWOI"
      },
      "execution_count": null,
      "outputs": []
    },
    {
      "cell_type": "code",
      "source": [
        "#Bus #2\n",
        "class Bus:\n",
        "    def drive_bus(self):\n",
        "        self.speed = 70\n",
        "\n",
        "    def set_bus(self, speed, color, model):\n",
        "        self.speed = speed\n",
        "        self.color = color\n",
        "        self.model = model\n",
        "\n",
        "myBus = Bus()\n",
        "myBus.set_bus(70, 'red', 'bus')\n",
        "\n",
        "print(myBus.speed)\n",
        "print(myBus.color)\n",
        "print(myBus.model)\n",
        "\n",
        "#70\n",
        "#red\n",
        "#bus"
      ],
      "metadata": {
        "id": "MT_Rqt-aHZNQ"
      },
      "execution_count": null,
      "outputs": []
    },
    {
      "cell_type": "code",
      "source": [
        "# Topic 2-1\n",
        "\n",
        "class Card():\n",
        "    def __init__(self):\n",
        "        self.balance = 0\n",
        "        print('카드가 발급되었습니다.')\n",
        "    def charge(self, money):\n",
        "        self.balance += money\n",
        "        print(money, '원이 충전되었습니다.')\n",
        "    def consume(self, price):\n",
        "        if self.balance >= price:\n",
        "          print(price, '원이 사용되었습니다.')\n",
        "          self.balance -= price\n",
        "          print(self.balance, '원이 남았습니다.' )\n",
        "        elif self.balance < price:\n",
        "          print('잔액이 부족합니다.')\n",
        "    def issued_card_count(self, )\n",
        "\n",
        "card1 = Card()\n",
        "#카드가 발급되었습니다.\n",
        "card1.charge(10000)\n",
        "#10000원이 충전되었습니다.\n",
        "card1.consume(1400)\n",
        "#1400원 사용되었습니다. 잔액은 8600 원 남았습니다.\n",
        "card1.consume(9000)\n",
        "#잔액이 부족합니다."
      ],
      "metadata": {
        "id": "CnxZ-Jz6HYHo"
      },
      "execution_count": null,
      "outputs": []
    },
    {
      "cell_type": "code",
      "source": [
        "#다른조 코드\n",
        "\n",
        "class Card():\n",
        "  issued_card_count = 0\n",
        "  def __init__(self):\n",
        "    self.balance = 0\n",
        "    Card.issued_card_count += 1\n",
        "    print('카드가 발급되었습니다.')\n",
        "  def __del__(self):\n",
        "    Card.issued_card_count -= 1\n",
        "  def charge(self, cash:int = 0):\n",
        "    self.balance += cash\n",
        "    print(f'{cash}원이 충전되었습니다.')\n",
        "  def consume(self, bill:int = 0):\n",
        "    if self.balance >= bill:\n",
        "      self.balance -= bill\n",
        "      print(f'{bill}원 사용되었습니다. 잔액은 {self.balance}원 남았습니다.')\n",
        "    else:\n",
        "      print(f'잔액이 부족합니다. {bill - self.balance}원 부족합니다.')"
      ],
      "metadata": {
        "id": "vQV2jXw4HwoC"
      },
      "execution_count": null,
      "outputs": []
    },
    {
      "cell_type": "code",
      "source": [
        "```python\n",
        "class Card():\n",
        "  issued_card_count = 0\n",
        "  def __init__(self):\n",
        "    self.balance = 0\n",
        "    Card.issued_card_count += 1\n",
        "    print('카드가 발급되었습니다.')\n",
        "  def __del__(self):\n",
        "    Card.issued_card_count -= 1\n",
        "  def charge(self, cash:int = 0):\n",
        "    self.balance += cash\n",
        "    print(f'{cash}원이 충전되었습니다.')\n",
        "  def consume(self, bill:int = 0):\n",
        "    if self.balance >= bill:\n",
        "      self.balance -= bill\n",
        "      print(f'{bill}원 사용되었습니다. 잔액은 {self.balance}원 남았습니다.')\n",
        "    else:\n",
        "      print(f'잔액이 부족합니다. {bill - self.balance}원 부족합니다.')\n",
        "```"
      ],
      "metadata": {
        "id": "BCmtzIVJH035"
      },
      "execution_count": null,
      "outputs": []
    }
  ]
}