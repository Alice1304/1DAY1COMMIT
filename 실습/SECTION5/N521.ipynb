{
  "nbformat": 4,
  "nbformat_minor": 0,
  "metadata": {
    "colab": {
      "provenance": [],
      "authorship_tag": "ABX9TyMy/HuqVdeFOvSzBe6eBA9e",
      "include_colab_link": true
    },
    "kernelspec": {
      "name": "python3",
      "display_name": "Python 3"
    },
    "language_info": {
      "name": "python"
    }
  },
  "cells": [
    {
      "cell_type": "markdown",
      "metadata": {
        "id": "view-in-github",
        "colab_type": "text"
      },
      "source": [
        "<a href=\"https://colab.research.google.com/github/Alice1304/1day1commit/blob/main/%EC%8B%A4%EC%8A%B5/SECTION5/N521.ipynb\" target=\"_parent\"><img src=\"https://colab.research.google.com/assets/colab-badge.svg\" alt=\"Open In Colab\"/></a>"
      ]
    },
    {
      "cell_type": "code",
      "execution_count": 1,
      "metadata": {
        "id": "U3vITH4jSIum"
      },
      "outputs": [],
      "source": [
        "class Node:\n",
        "    def __init__(self, value, next=None):\n",
        "        self.value = value  # 노드의 값을 나타내는 value\n",
        "        self.next = next  # 노드의 다음위치를 가리키는 next의 초기값은 None\n",
        "\n",
        "class linked_list:\n",
        "    def __init__(self, value):\n",
        "        self.head = Node(value) # 초기 클래스에 head노드선언\n",
        "\n",
        "    def add_node(value):\n",
        "        print('head.value:', head.value)\n",
        "        print('head.next:', head.next)\n",
        "        node = head           \n",
        "        # 첫번째 위치에 해당하는 head를 생성하고, node 변수에 저장해둔다.\n",
        "        while node.next:      \n",
        "        # 마지막 노드의 값을 찾기 위한 while 문\n",
        "            node = node.next  \n",
        "            # 노드의 next가 있을 경우 node를 node.next로 업데이트 해준다.\n",
        "\n",
        "        # 아래의 node는 연결리스트의 마지막 노드의 값을 가리키고,\n",
        "        # 해당 노드의 next에 새로운 노드를 추가해준다.\n",
        "        node.next = Node(value) "
      ]
    },
    {
      "cell_type": "code",
      "source": [
        "# 연결리스트의 노드값들에 대해서 봐보자.\n",
        "head = Node(5)    # head노드에 값 5를 저장\n",
        "linked_list.add_node(11) # 값 11을 추가\n",
        "linked_list.add_node(17) # 값 17을 추가\n",
        "\n",
        "# print(head.value) # head노드의 값은 5\n",
        "# print(head.next.value) # head노드의 다음위치노드의 값은 11\n",
        "# # print(head.next.next.value) # head노드의 다음위치노드의 다음값은 17"
      ],
      "metadata": {
        "colab": {
          "base_uri": "https://localhost:8080/"
        },
        "id": "4Do916kXSL9S",
        "outputId": "154274f4-b474-4dff-814b-608b2413fa1c"
      },
      "execution_count": 8,
      "outputs": [
        {
          "output_type": "stream",
          "name": "stdout",
          "text": [
            "head.value: 5\n",
            "head.next: None\n",
            "head.value: 5\n",
            "head.next: <__main__.Node object at 0x7f3cfbf72690>\n"
          ]
        }
      ]
    },
    {
      "cell_type": "code",
      "source": [
        "# 리스트를 연결해보자.\n",
        "node1 = Node(3)\n",
        "node2 = Node(4)\n",
        "node3 = Node(5)\n",
        "node4 = Node(6)\n",
        "\n",
        "node1.next = node2\n",
        "node2.next = node3\n",
        "node3.next = node4\n",
        "\n",
        "node = node1        # 첫번째노드부터 시작한다.\n",
        "while node:         # 노드별로 반복문을 수행\n",
        "    print(node.value) \n",
        "    node = node.next  # 다음노드를 현재노드에 저장하면서 위치를 바꾼다."
      ],
      "metadata": {
        "colab": {
          "base_uri": "https://localhost:8080/"
        },
        "id": "SsuEwVrdTSsy",
        "outputId": "f9eb7a7d-1d0a-4b97-eae5-690f5d3d21ae"
      },
      "execution_count": 9,
      "outputs": [
        {
          "output_type": "stream",
          "name": "stdout",
          "text": [
            "3\n",
            "4\n",
            "5\n",
            "6\n"
          ]
        }
      ]
    },
    {
      "cell_type": "code",
      "source": [
        "# 클래스에 연결리스트 구현\n",
        "class Node:\n",
        "    def __init__(self, value):\n",
        "        self.value = value\n",
        "        self.next = None\n",
        "\n",
        "class linked_list:\n",
        "    def __init__(self, value):\n",
        "        self.head = Node(value)\n",
        "\n",
        "    def add_node(self, value):\n",
        "        if self.head == None:\n",
        "            self.head = Node(value)\n",
        "        else:\n",
        "            node = self.head\n",
        "            while node.next:\n",
        "                node = node.next\n",
        "            node.next = Node(value) # init함수의 value\n",
        "\n",
        "    # 연결리스트의 삭제구현\n",
        "    # 아래의 주석을 참고하여 연결리스트의 삭제연산을 직접 구현해보자.\n",
        "    def del_node(self, value):\n",
        "        # 해당 값에 대한 노드는 없는 경우\n",
        "        if self.head == None:\n",
        "            pass\n",
        "            # 의미없는 조건에서 함수는 아무것도 반환하지 않는다.\n",
        "        # 헤드 밸류가 내가 찾는 값일 경우\n",
        "        elif self.head.value == value:\n",
        "            tmp = self.head\n",
        "            # 헤드노드의 값을 임시저장하고\n",
        "            self.head = self.head.next\n",
        "            # 헤드노드 다음의 값을 헤드노드로 지정한 뒤\n",
        "            del tmp\n",
        "            # 임시저장한 값을 제거한다.\n",
        "        # 연결리스트에 노드가 있고 헤드 밸류가 내가 찾는 값이 아닐 경우\n",
        "        else:\n",
        "            # 노드에 헤드노드를 설정한다.\n",
        "            node = self.head\n",
        "            # node.next가 None이 아닐때까지 아래 반복문을 실행한다.\n",
        "            while node.next:\n",
        "                # 노드의 다음값이 내가 찾는 값일 경우\n",
        "                if node.next.value == value:\n",
        "                    tmp = node.next\n",
        "                    # 헤드노드의 다음 밸류를 임시저장하고\n",
        "                    node.next = node.next.next\n",
        "                    # 헤드노드의 다음 밸류를 그 다음 밸류값으로 넣고\n",
        "                    del tmp\n",
        "                    # 임시 저장한 값을 삭제한다.\n",
        "                # 노드의 다음값이 내가 찾는 값이 아닐 경우\n",
        "                else:\n",
        "                  node = node.next \n",
        "                    # 그 다음 노드를 탐색하기 위한 작업을 해준다.\n",
        "\n",
        "    # 연결리스트의 노드출력을 위한 기능\n",
        "    def ord_desc(self):\n",
        "        node = self.head\n",
        "        while node:\n",
        "            print(node.value)\n",
        "            node = node.next  "
      ],
      "metadata": {
        "id": "9AiUX3gkTmTx"
      },
      "execution_count": 11,
      "outputs": []
    },
    {
      "cell_type": "code",
      "source": [
        "# 노드출력 테스트\n",
        "linkedlist = linked_list(0)\n",
        "linkedlist.ord_desc()"
      ],
      "metadata": {
        "colab": {
          "base_uri": "https://localhost:8080/"
        },
        "id": "Yjh8rEVsZA46",
        "outputId": "e369e265-7052-45ad-bf61-1e1d31ee41c8"
      },
      "execution_count": 14,
      "outputs": [
        {
          "output_type": "stream",
          "name": "stdout",
          "text": [
            "0\n"
          ]
        }
      ]
    },
    {
      "cell_type": "code",
      "source": [
        "# 노드 삽입 테스트\n",
        "for value in range(1, 10):\n",
        "    linkedlist.add_node(value)\n",
        "linkedlist.ord_desc()"
      ],
      "metadata": {
        "colab": {
          "base_uri": "https://localhost:8080/"
        },
        "id": "lQgnRJNCZG1C",
        "outputId": "ce59426a-487b-4577-d63d-7d6158843e14"
      },
      "execution_count": 16,
      "outputs": [
        {
          "output_type": "stream",
          "name": "stdout",
          "text": [
            "0\n",
            "1\n",
            "2\n",
            "3\n",
            "4\n",
            "5\n",
            "6\n",
            "7\n",
            "8\n",
            "9\n"
          ]
        }
      ]
    },
    {
      "cell_type": "code",
      "source": [
        "# 연결리스트의 head의 주소를 확인함으로써 메모리상에 연결리스트가 존재함을 확인\n",
        "linkedlist.head"
      ],
      "metadata": {
        "colab": {
          "base_uri": "https://localhost:8080/"
        },
        "id": "XYfZD_S9ZKTq",
        "outputId": "ee2ccba9-f2da-4825-feaa-db0cead2cbff"
      },
      "execution_count": 17,
      "outputs": [
        {
          "output_type": "execute_result",
          "data": {
            "text/plain": [
              "<__main__.Node at 0x7f3cfb3c4fd0>"
            ]
          },
          "metadata": {},
          "execution_count": 17
        }
      ]
    },
    {
      "cell_type": "code",
      "source": [
        "# 노드삭제 테스트 1\n",
        "print('test1 ---------')\n",
        "linkedlist = linked_list(0) # 노드 초기값 설정\n",
        "linkedlist.del_node(0)  # 노드삭제\n",
        "linkedlist.del_node(0)  # 노드삭제\n",
        "linkedlist.ord_desc()\n",
        "\n",
        "# 노드삭제 테스트 2\n",
        "print('test2 ---------')\n",
        "linkedlist = linked_list(0) # 노드 초기값 설정\n",
        "linkedlist.add_node(1)\n",
        "linkedlist.del_node(0)  # 노드삭제\n",
        "linkedlist.ord_desc()\n",
        "\n",
        "# 노드삭제 테스트 3\n",
        "print('test3 ---------')\n",
        "linkedlist = linked_list(0) # 노드 초기값 설정\n",
        "for value in range(1,5):\n",
        "    linkedlist.add_node(value)\n",
        "linkedlist.del_node(3)  # 노드삭제\n",
        "linkedlist.ord_desc()"
      ],
      "metadata": {
        "colab": {
          "base_uri": "https://localhost:8080/"
        },
        "id": "CyGQ9sLdZMki",
        "outputId": "4115b624-26f3-49d2-8b54-b047a64faa7a"
      },
      "execution_count": 18,
      "outputs": [
        {
          "output_type": "stream",
          "name": "stdout",
          "text": [
            "test1 ---------\n",
            "test2 ---------\n",
            "1\n",
            "test3 ---------\n",
            "0\n",
            "1\n",
            "2\n",
            "4\n"
          ]
        }
      ]
    },
    {
      "cell_type": "code",
      "source": [
        "# 연결리스트에서 검색구현\n",
        "class Node:\n",
        "    def __init__(self, value):\n",
        "        self.value = value\n",
        "        self.next = None\n",
        "\n",
        "class linked_list:\n",
        "    def __init__(self, value):\n",
        "        self.head = Node(value)\n",
        "\n",
        "    def add_node(self, value):\n",
        "        if self.head == None:\n",
        "            self.head = Node(value)\n",
        "        else:\n",
        "            node = self.head\n",
        "            while node.next:\n",
        "                node = node.next\n",
        "            node.next = Node(value) # init함수의 value\n",
        "\n",
        "    # 연결리스트의 삭제구현\n",
        "    # 아래의 주석을 위에 설명된 삭제 연산 주석과 비교하여 살펴보자.\n",
        "    def del_node(self, value):\n",
        "      if self.head == None:\n",
        "        pass \n",
        "        # head의 참조값이 없는 경우\n",
        "            # 의미없는 조건에서 함수는 아무것도 반환하지 않는다. \n",
        "      elif self.head.value == value: # head의 값이 현재 값과 같은 경우\n",
        "        tmp = self.head ## 임시저장해두기\n",
        "        self.head = self.head.next # 노드의 위치를 변경시킨다.\n",
        "        del tmp  # 변경된 노드에 대해서 삭제를 진행한다.\n",
        "      else: # 나머지 경우\n",
        "            # 노드에 헤드노드를 설정한다.\n",
        "            node = self.head\n",
        "            # node.next가 None이 아닐때까지 아래 반복문을 실행한다.\n",
        "            while node.next:\n",
        "                # 노드의 다음값이 내가 찾는 값일 경우\n",
        "                if node.next.value == value:\n",
        "                  tmp = node.next\n",
        "                  node.next = node.next.next\n",
        "                  del tmp\n",
        "                    # 노드의 위치를 변경시킨다.\n",
        "                    # 변경된 노드에 대해서 삭제를 진행한다.\n",
        "                # 노드의 다음값이 내가 찾는 값이 아닐 경우\n",
        "                else: \n",
        "                    # 다음 노드의 위치를 현재 노드에 넣어준다.\n",
        "                  node = node.next\n",
        "    # 연결리스트의 노드출력을 위한 기능\n",
        "    def ord_desc(self):\n",
        "        node = self.head\n",
        "        while node:\n",
        "            print(node.value)\n",
        "            node = node.next \n",
        "    \n",
        "    # 연결리스트 검색함수\n",
        "    def search_node(self, value):\n",
        "        # 노드에 헤드노드를 설정한다.\n",
        "        node = self.head\n",
        "        while node: \n",
        "        # 노드가 있는 경우 아래 작업을 반복한다.\n",
        "            if node.value == value: # 노드의 값이 현재 값과 같은 경우\n",
        "              return node # 노드를 반환한다.\n",
        "            else: # 노드의 값이 다른 경우\n",
        "              node = node.next # 다른 노드의 위치를 현재 노드에 넣어준다.\n",
        "                            "
      ],
      "metadata": {
        "id": "MBnK2pRYZaMx"
      },
      "execution_count": 21,
      "outputs": []
    },
    {
      "cell_type": "code",
      "source": [
        "linkedlist = linked_list(0) # 연결리스트 초기화\n",
        "\n",
        "# 연결리스트에 노드 다시 추가\n",
        "for value in range(1,11):\n",
        "    linkedlist.add_node(value)\n",
        "linkedlist.ord_desc()"
      ],
      "metadata": {
        "colab": {
          "base_uri": "https://localhost:8080/"
        },
        "id": "bD1xNjiSfHHi",
        "outputId": "2af05e12-915a-498f-de9b-b6a8c8f41354"
      },
      "execution_count": 22,
      "outputs": [
        {
          "output_type": "stream",
          "name": "stdout",
          "text": [
            "0\n",
            "1\n",
            "2\n",
            "3\n",
            "4\n",
            "5\n",
            "6\n",
            "7\n",
            "8\n",
            "9\n",
            "10\n"
          ]
        }
      ]
    },
    {
      "cell_type": "code",
      "source": [
        "# 4라는 값을 갖고 있는 노드를 연결리스트에서 검색해보자.\n",
        "node = linkedlist.search_node(4)\n",
        "print(node.value)\n",
        "print(node.next.value)      # 4 다음 값 검색"
      ],
      "metadata": {
        "colab": {
          "base_uri": "https://localhost:8080/"
        },
        "id": "0kUSkin7fHMR",
        "outputId": "c9afc791-aaab-4061-97fd-72f5371b3924"
      },
      "execution_count": 23,
      "outputs": [
        {
          "output_type": "stream",
          "name": "stdout",
          "text": [
            "4\n",
            "5\n"
          ]
        }
      ]
    },
    {
      "cell_type": "code",
      "source": [
        "# 리스트 메소드를 사용해서 큐를 만들어보기\n",
        "from collections import deque\n",
        "queue = deque([\"Eric\", \"John\", \"Michael\"])\n",
        "queue.append(\"Terry\")           \n",
        "queue.append(\"Graham\")\n",
        "\n",
        "print('queue:', queue)\n",
        "print('queue.popleft():',queue.popleft())\n",
        "print('queue.popleft():',queue.popleft())\n",
        "print('queue:', queue) "
      ],
      "metadata": {
        "colab": {
          "base_uri": "https://localhost:8080/"
        },
        "id": "SqKTg2TDgpPT",
        "outputId": "cdb1208e-fea4-4869-9766-a3d4e7d5a57b"
      },
      "execution_count": 24,
      "outputs": [
        {
          "output_type": "stream",
          "name": "stdout",
          "text": [
            "queue: deque(['Eric', 'John', 'Michael', 'Terry', 'Graham'])\n",
            "queue.popleft(): Eric\n",
            "queue.popleft(): John\n",
            "queue: deque(['Michael', 'Terry', 'Graham'])\n"
          ]
        }
      ]
    },
    {
      "cell_type": "code",
      "source": [
        "class Queue:\n",
        "    def __init__(self):\n",
        "        self.front = None\n",
        "        self.rear = None"
      ],
      "metadata": {
        "id": "J35Kr-69g5FS"
      },
      "execution_count": null,
      "outputs": []
    },
    {
      "cell_type": "code",
      "source": [
        "# 연결리스트를 이용한 큐 구현\n",
        "class LinkedListNode:\n",
        "    def __init__(self, data):\n",
        "        self.data = data\n",
        "        self.next = None\n",
        "\n",
        "class Queue:\n",
        "    def __init__(self):\n",
        "        self.front = None\n",
        "        self.rear = None\n",
        "\n",
        "    # 대기열에서 넣기(큐에 값을 집어넣는 함수)\n",
        "    def enqueue(self, item):\n",
        "        new_node = LinkedListNode(item)\n",
        "        # 큐가 비어있는지 체크\n",
        "        if self.rear is None:\n",
        "            self.front = new_node\n",
        "            self.rear = new_node\n",
        "        else:\n",
        "            # 새로운 노드를 rear 다음에 삽입\n",
        "            self.rear.next = new_node\n",
        "            # 새로운 노드를 rear 재할당\n",
        "            self.rear = new_node\n",
        "        return new_node.data\n",
        "\n",
        "    # 대기열에서 빼기(큐에서 값을 빼내는 함수)\n",
        "    def dequeue(self):\n",
        "        # 큐가 비어있는지 체크\n",
        "        if self.front is not None:\n",
        "            # front값을 old front에 삽입\n",
        "            old_front = self.front\n",
        "            # old front 다음 값을 front값에 삽입\n",
        "            self.front = old_front.next\n",
        "\n",
        "        # 큐가 비어있는지 체크\n",
        "        if self.front is None:\n",
        "            # rear를 None으로 지정한다.\n",
        "            self.rear = None\n",
        "\n",
        "        return old_front.data\n",
        "    \n",
        "    # 연결리스트의 노드출력을 위한 기능\n",
        "    def ord_desc(self):\n",
        "        node = self.front  \n",
        "        while node:\n",
        "            print(node.data)\n",
        "            node = node.next"
      ],
      "metadata": {
        "id": "X3IQ4PixiwP6"
      },
      "execution_count": 25,
      "outputs": []
    },
    {
      "cell_type": "code",
      "source": [
        "# 리스트 메소드를 사용해서 스택만들어보기\n",
        "stack = [3, 4, 5]\n",
        "stack.append(6)\n",
        "stack.append(7)\n",
        "print(stack)\n",
        "\n",
        "stack.pop()\n",
        "print(stack)\n",
        "\n",
        "stack.pop()\n",
        "print(stack)\n",
        "\n",
        "stack.pop()\n",
        "print(stack)\n",
        "\n",
        "# 위의 코드처럼 push와 pop을 활용해서 공간에 값이 유동적으로 변한다.(동적처리)"
      ],
      "metadata": {
        "colab": {
          "base_uri": "https://localhost:8080/"
        },
        "id": "m7KJz0XPJTCb",
        "outputId": "720a6a42-8e29-4b59-850a-8b6ff134e97b"
      },
      "execution_count": 1,
      "outputs": [
        {
          "output_type": "stream",
          "name": "stdout",
          "text": [
            "[3, 4, 5, 6, 7]\n",
            "[3, 4, 5, 6]\n",
            "[3, 4, 5]\n",
            "[3, 4]\n"
          ]
        }
      ]
    },
    {
      "cell_type": "code",
      "source": [
        "class Stack:\n",
        "    def __init__(self):\n",
        "        self.data = []\n",
        "\n",
        "    def push(self, item):\n",
        "        self.data.append(item)\n",
        "\n",
        "    def pop(self):\n",
        "        if len(self.data) > 0:\n",
        "            return self.data.pop()\n",
        "        return \"The stack is empty\""
      ],
      "metadata": {
        "id": "6hDiulPcKQvr"
      },
      "execution_count": 2,
      "outputs": []
    },
    {
      "cell_type": "code",
      "source": [
        "class LinkedListNode:\n",
        "    def __init__(self, data):\n",
        "        self.data = data\n",
        "        self.next = None\n",
        "\n",
        "class Stack:\n",
        "    def __init__(self):\n",
        "        self.top = None"
      ],
      "metadata": {
        "id": "cePL6qBHLO-7"
      },
      "execution_count": 9,
      "outputs": []
    },
    {
      "cell_type": "code",
      "source": [
        "# [연결리스트를 이용한 스택 구현]\n",
        "# 아래의 코드는 스택이 내부적으로 어떻게 작동되는지 확인하기 위해 작성되었다.\n",
        "# 파이썬에서 자체적으로 제공하는 리스트의 append, pop 메소드를 활용하면 쉽게 구현될 수 있지만,\n",
        "# 아래처럼 다른 방법으로도 구현하는 코드를 보면서 스택에 대한 이해도를 높일 수 있다.\n",
        "class LinkedListNode:\n",
        "    def __init__(self, data):\n",
        "        self.data = data\n",
        "        self.next = None\n",
        "\n",
        "class Stack:\n",
        "    def __init__(self):\n",
        "        self.top = None\n",
        "\n",
        "    def push(self, data):\n",
        "        # 신규 노드 생성\n",
        "        new_node = LinkedListNode(data)\n",
        "        # 최상단의 노드를 신규 노드 다음 노드로 삽입\n",
        "        new_node.next = self.top\n",
        "        # 신규 노드를 최상단에 삽입\n",
        "        self.top = new_node\n",
        "        return new_node.data\n",
        "\n",
        "    def pop(self):\n",
        "        # 스택이 비어있는지 확인\n",
        "        if self.top is not None:\n",
        "            # 최상단의 노드를 삭제할 노드로 삽입\n",
        "            popped_node = self.top\n",
        "            # 삭제할 노드 다음 노드를 최상단의 노드로 삽입\n",
        "            self.top = popped_node.next\n",
        "            # 삭제할 노드로부터 값 리턴\n",
        "            return popped_node.data\n",
        "\n",
        "    # 연결리스트의 노드출력을 위한 기능\n",
        "    def ord_desc(self):\n",
        "        node = self.top\n",
        "        while node:\n",
        "            print(node.data)\n",
        "            node = node.next"
      ],
      "metadata": {
        "id": "I9JUKAHxLTv9"
      },
      "execution_count": 10,
      "outputs": []
    },
    {
      "cell_type": "code",
      "source": [
        "# 스택에 내부적으로 값을 쌓고 pop하는 과정을 살펴본다.\n",
        "s = Stack()\n",
        "\n",
        "print('1,2,3 차례대로 추가하기:')\n",
        "s = Stack()\n",
        "s.push(1)\n",
        "s.push(2)\n",
        "s.push(3)\n",
        "s.ord_desc()\n",
        "\n",
        "print('대기열에서 빼기:')\n",
        "s.pop()\n",
        "s.ord_desc()"
      ],
      "metadata": {
        "colab": {
          "base_uri": "https://localhost:8080/"
        },
        "id": "WFHlU8JxLXh7",
        "outputId": "6eea784b-9357-493f-aab0-a0b1a4c7c42f"
      },
      "execution_count": 11,
      "outputs": [
        {
          "output_type": "stream",
          "name": "stdout",
          "text": [
            "1,2,3 차례대로 추가하기:\n",
            "3\n",
            "2\n",
            "1\n",
            "대기열에서 빼기:\n",
            "2\n",
            "1\n"
          ]
        }
      ]
    }
  ]
}