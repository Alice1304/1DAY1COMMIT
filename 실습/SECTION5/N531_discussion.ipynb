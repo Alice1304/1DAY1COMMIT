{
  "nbformat": 4,
  "nbformat_minor": 0,
  "metadata": {
    "colab": {
      "provenance": [],
      "collapsed_sections": [],
      "authorship_tag": "ABX9TyOrBsqa214rEWoKL4ou175Y",
      "include_colab_link": true
    },
    "kernelspec": {
      "name": "python3",
      "display_name": "Python 3"
    },
    "language_info": {
      "name": "python"
    }
  },
  "cells": [
    {
      "cell_type": "markdown",
      "metadata": {
        "id": "view-in-github",
        "colab_type": "text"
      },
      "source": [
        "<a href=\"https://colab.research.google.com/github/Alice1304/1day1commit/blob/main/%EC%8B%A4%EC%8A%B5/SECTION5/N531_discussion.ipynb\" target=\"_parent\"><img src=\"https://colab.research.google.com/assets/colab-badge.svg\" alt=\"Open In Colab\"/></a>"
      ]
    },
    {
      "cell_type": "code",
      "execution_count": 1,
      "metadata": {
        "id": "rRzLgidXwA4s"
      },
      "outputs": [],
      "source": [
        "def insert_hash(hash_table, key, value):\n",
        "\n",
        "    def hash_function(key):\n",
        "        return key % len(hash_table)\n",
        "\n",
        "    hash_key = hash_function(key)\n",
        "    hash_table[hash_key].append(value)   #append를 사용하여 같은 index에 여러 개의 값을 넣을 수 있다\n",
        "\n",
        "    return\n"
      ]
    },
    {
      "cell_type": "code",
      "source": [
        "class hash_table:\n",
        "    def __init__(self):\n",
        "        self.table = [ [] for _ in range(7) ] #이중 배열  만들기\n",
        "    \n",
        "    def hash_function(self, num):\n",
        "        return num % 7  #키 값 구하기\n",
        "\n",
        "    def hash_put(self, num):\n",
        "        key = self.hash_function(num) #키값\n",
        "        self.table[key].append(num) #키에 해당하는 값 넣어주기?\n",
        "\n",
        "    def hash_search(self, num): #검색하여 출력하기\n",
        "        key = self.hash_function(num) \n",
        "        return  [num if num in self.table[key] else None]\n",
        "    \n",
        "    def hash_pop(self, num):  #해당 데이터 삭제하기 \n",
        "        key = self.hash_function(num)\n",
        "        if num in self.table[key]:\n",
        "            return self.table[key].pop(self.table[key].index(num))\n",
        "        else:\n",
        "            return None\n"
      ],
      "metadata": {
        "id": "d4Lx0ikfwNVz"
      },
      "execution_count": 26,
      "outputs": []
    },
    {
      "cell_type": "code",
      "source": [
        "ht = hash_table()\n",
        "ht.table"
      ],
      "metadata": {
        "colab": {
          "base_uri": "https://localhost:8080/"
        },
        "id": "9NliXgKrxBOi",
        "outputId": "3f1b824a-4edd-4332-f9d8-c7135707e804"
      },
      "execution_count": 27,
      "outputs": [
        {
          "output_type": "execute_result",
          "data": {
            "text/plain": [
              "[[], [], [], [], [], [], []]"
            ]
          },
          "metadata": {},
          "execution_count": 27
        }
      ]
    },
    {
      "cell_type": "code",
      "source": [
        "ht.hash_put(7)\n",
        "ht.table"
      ],
      "metadata": {
        "colab": {
          "base_uri": "https://localhost:8080/"
        },
        "id": "Aad6h8F-xDGq",
        "outputId": "bfc73f9a-1404-466d-bfce-2e67f6e526c1"
      },
      "execution_count": 28,
      "outputs": [
        {
          "output_type": "execute_result",
          "data": {
            "text/plain": [
              "[[7], [], [], [], [], [], []]"
            ]
          },
          "metadata": {},
          "execution_count": 28
        }
      ]
    },
    {
      "cell_type": "code",
      "source": [
        "ht.hash_put(14)\n",
        "ht.table\n"
      ],
      "metadata": {
        "colab": {
          "base_uri": "https://localhost:8080/"
        },
        "id": "UWztUIzZxMP5",
        "outputId": "06a7eb84-56a3-4680-d032-27bba0b29f7a"
      },
      "execution_count": 29,
      "outputs": [
        {
          "output_type": "execute_result",
          "data": {
            "text/plain": [
              "[[7, 14], [], [], [], [], [], []]"
            ]
          },
          "metadata": {},
          "execution_count": 29
        }
      ]
    },
    {
      "cell_type": "code",
      "source": [
        "ht.hash_put(40)\n",
        "ht.table\n"
      ],
      "metadata": {
        "colab": {
          "base_uri": "https://localhost:8080/"
        },
        "id": "-fvq16VMxUQJ",
        "outputId": "5d197141-6d09-4cfc-d2f4-58728399ae03"
      },
      "execution_count": 30,
      "outputs": [
        {
          "output_type": "execute_result",
          "data": {
            "text/plain": [
              "[[7, 14], [], [], [], [], [40], []]"
            ]
          },
          "metadata": {},
          "execution_count": 30
        }
      ]
    },
    {
      "cell_type": "code",
      "source": [
        "ht.hash_put(40)\n",
        "ht.table"
      ],
      "metadata": {
        "colab": {
          "base_uri": "https://localhost:8080/"
        },
        "id": "NXgpU59cxWGB",
        "outputId": "a5334605-2dd6-4be0-9207-229b5cb1a945"
      },
      "execution_count": 31,
      "outputs": [
        {
          "output_type": "execute_result",
          "data": {
            "text/plain": [
              "[[7, 14], [], [], [], [], [40, 40], []]"
            ]
          },
          "metadata": {},
          "execution_count": 31
        }
      ]
    },
    {
      "cell_type": "code",
      "source": [
        "ht.hash_search(30)\n"
      ],
      "metadata": {
        "colab": {
          "base_uri": "https://localhost:8080/"
        },
        "id": "N9wG9AqLxZTR",
        "outputId": "d59b39d4-19d0-4041-c924-6a8be46ab506"
      },
      "execution_count": 32,
      "outputs": [
        {
          "output_type": "execute_result",
          "data": {
            "text/plain": [
              "[None]"
            ]
          },
          "metadata": {},
          "execution_count": 32
        }
      ]
    },
    {
      "cell_type": "code",
      "source": [
        "ht.hash_search(40)\n"
      ],
      "metadata": {
        "colab": {
          "base_uri": "https://localhost:8080/"
        },
        "id": "FkgybOhbxcxS",
        "outputId": "a208e5ef-31f6-4ac2-9e29-1606ec4bb1a3"
      },
      "execution_count": 33,
      "outputs": [
        {
          "output_type": "execute_result",
          "data": {
            "text/plain": [
              "[40]"
            ]
          },
          "metadata": {},
          "execution_count": 33
        }
      ]
    },
    {
      "cell_type": "code",
      "source": [
        "print(ht.hash_pop(30))\n"
      ],
      "metadata": {
        "colab": {
          "base_uri": "https://localhost:8080/"
        },
        "id": "0VH689bzxeOZ",
        "outputId": "740a6df0-2ae6-47e8-d0c6-8dc369a6eedc"
      },
      "execution_count": 34,
      "outputs": [
        {
          "output_type": "stream",
          "name": "stdout",
          "text": [
            "None\n"
          ]
        }
      ]
    },
    {
      "cell_type": "code",
      "source": [
        "print(ht.hash_pop(7))\n"
      ],
      "metadata": {
        "colab": {
          "base_uri": "https://localhost:8080/"
        },
        "id": "Fp17Xopsxhsq",
        "outputId": "ee0f3117-09c8-49a2-826a-e47b9537311e"
      },
      "execution_count": 35,
      "outputs": [
        {
          "output_type": "stream",
          "name": "stdout",
          "text": [
            "7\n"
          ]
        }
      ]
    },
    {
      "cell_type": "code",
      "source": [
        "class hash_table_open_address:\n",
        "    \n",
        "    def __init__(self): #빈 리스트 만들기\n",
        "        self.max_hash_size = 7\n",
        "        self.save_hash = 0\n",
        "        self.table = [ None for _ in range(self.max_hash_size) ]\n",
        "    \n",
        "    def hash_function(self, num): #키 값 찾아주기\n",
        "        return num % 7\n",
        "    \n",
        "    def hash_find_empty_index(self, num): #빈 인덱스 찾기\n",
        "        if num in self.table: #중복허용하지 않기\n",
        "            return None\n",
        "        \n",
        "        if self.save_hash == self.max_hash_size: #해쉬테이블이 풀인지 체크 \n",
        "            print('hash table full') #그 경우 해당 메시지 출력 \n",
        "            return None\n",
        "        \n",
        "        key = self.hash_function(num) \n",
        "        \n",
        "        try:\n",
        "            return self.table[key:].index(None) + key #키부터 끝까지 빈인덱스찾기\n",
        "        except:\n",
        "            try:\n",
        "                return self.table[:key-1].index(None) #처음부터 키 이전까지 찾기\n",
        "            except:\n",
        "                print('hash table full') #빈인덱스 없을 시 출력\n",
        "                return None\n",
        "\n",
        "    def hash_put(self, num): #키에 해당하는 데이터 넣기\n",
        "        key = self.hash_find_empty_index(num)\n",
        "        if key is not None:\n",
        "            self.table[key] = num\n",
        "            self.save_hash += 1\n",
        "\n",
        "    def hash_search(self, num): #찾기\n",
        "        if num in self.table:\n",
        "            return num\n",
        "        else:\n",
        "            return None\n",
        "\n",
        "    def hash_pop(self, num): #삭제\n",
        "        if num in self.table:\n",
        "            self.table[self.table.index(num)] = None\n",
        "            self.save_hash -= 1\n",
        "            return num\n",
        "        \n",
        "        return None\n",
        "\n",
        "\n"
      ],
      "metadata": {
        "id": "KvPETwm8x5YB"
      },
      "execution_count": 16,
      "outputs": []
    },
    {
      "cell_type": "code",
      "source": [
        "ht = hash_table_open_address()\n",
        "ht.table\n"
      ],
      "metadata": {
        "colab": {
          "base_uri": "https://localhost:8080/"
        },
        "id": "CipkBwLhycY4",
        "outputId": "f6f6eb36-381e-4cb5-a2d0-d29c03cf47e2"
      },
      "execution_count": 36,
      "outputs": [
        {
          "output_type": "execute_result",
          "data": {
            "text/plain": [
              "[None, None, None, None, None, None, None]"
            ]
          },
          "metadata": {},
          "execution_count": 36
        }
      ]
    },
    {
      "cell_type": "code",
      "source": [
        "ht.hash_put(50)\n",
        "ht.table\n"
      ],
      "metadata": {
        "colab": {
          "base_uri": "https://localhost:8080/"
        },
        "id": "5xa63TPsye1o",
        "outputId": "9fced4fb-944a-42c6-a9b7-ddb89bc20eee"
      },
      "execution_count": 18,
      "outputs": [
        {
          "output_type": "execute_result",
          "data": {
            "text/plain": [
              "[None, 50, None, None, None, None, None]"
            ]
          },
          "metadata": {},
          "execution_count": 18
        }
      ]
    },
    {
      "cell_type": "code",
      "source": [
        "ht.hash_put(700)\n",
        "ht.table\n"
      ],
      "metadata": {
        "colab": {
          "base_uri": "https://localhost:8080/"
        },
        "id": "T2uwTqUzyhVY",
        "outputId": "4acddc8f-d339-4f78-870e-8c508854f58e"
      },
      "execution_count": 19,
      "outputs": [
        {
          "output_type": "execute_result",
          "data": {
            "text/plain": [
              "[700, 50, None, None, None, None, None]"
            ]
          },
          "metadata": {},
          "execution_count": 19
        }
      ]
    },
    {
      "cell_type": "code",
      "source": [
        "ht.hash_put(76)\n",
        "ht.table\n"
      ],
      "metadata": {
        "colab": {
          "base_uri": "https://localhost:8080/"
        },
        "id": "tjtqTxJ7yjAA",
        "outputId": "f9d17d74-4a07-4941-8e55-b2bc7857ce78"
      },
      "execution_count": 20,
      "outputs": [
        {
          "output_type": "execute_result",
          "data": {
            "text/plain": [
              "[700, 50, None, None, None, None, 76]"
            ]
          },
          "metadata": {},
          "execution_count": 20
        }
      ]
    },
    {
      "cell_type": "code",
      "source": [
        "ht.hash_put(85)\n",
        "ht.table\n"
      ],
      "metadata": {
        "colab": {
          "base_uri": "https://localhost:8080/"
        },
        "id": "YukmCBJJylrR",
        "outputId": "a0ca44c6-8c8d-46d2-e7a8-86884419adb7"
      },
      "execution_count": 21,
      "outputs": [
        {
          "output_type": "execute_result",
          "data": {
            "text/plain": [
              "[700, 50, 85, None, None, None, 76]"
            ]
          },
          "metadata": {},
          "execution_count": 21
        }
      ]
    },
    {
      "cell_type": "code",
      "source": [
        "ht.hash_put(92)\n",
        "ht.table\n"
      ],
      "metadata": {
        "colab": {
          "base_uri": "https://localhost:8080/"
        },
        "id": "RsUj2L-0ynyv",
        "outputId": "f64e580d-e411-4fb3-f5dd-840593d741dc"
      },
      "execution_count": 22,
      "outputs": [
        {
          "output_type": "execute_result",
          "data": {
            "text/plain": [
              "[700, 50, 85, 92, None, None, 76]"
            ]
          },
          "metadata": {},
          "execution_count": 22
        }
      ]
    },
    {
      "cell_type": "code",
      "source": [
        "ht.hash_put(73)\n",
        "ht.table\n"
      ],
      "metadata": {
        "colab": {
          "base_uri": "https://localhost:8080/"
        },
        "id": "c3I2nJ8ZypSw",
        "outputId": "540a6aa5-f0d7-49be-f3d3-92c0e4716b8f"
      },
      "execution_count": 23,
      "outputs": [
        {
          "output_type": "execute_result",
          "data": {
            "text/plain": [
              "[700, 50, 85, 92, 73, None, 76]"
            ]
          },
          "metadata": {},
          "execution_count": 23
        }
      ]
    },
    {
      "cell_type": "code",
      "source": [
        "ht.hash_put(101)\n",
        "ht.table\n"
      ],
      "metadata": {
        "colab": {
          "base_uri": "https://localhost:8080/"
        },
        "id": "ElDlX_XAyq6J",
        "outputId": "58900192-6bae-44d1-f17a-61041c6d99a1"
      },
      "execution_count": 24,
      "outputs": [
        {
          "output_type": "execute_result",
          "data": {
            "text/plain": [
              "[700, 50, 85, 92, 73, 101, 76]"
            ]
          },
          "metadata": {},
          "execution_count": 24
        }
      ]
    },
    {
      "cell_type": "code",
      "source": [
        "ht.hash_put(87)\n"
      ],
      "metadata": {
        "colab": {
          "base_uri": "https://localhost:8080/"
        },
        "id": "iWVjEPE1yr54",
        "outputId": "0813436a-2b20-405c-c42a-84660857263e"
      },
      "execution_count": 25,
      "outputs": [
        {
          "output_type": "stream",
          "name": "stdout",
          "text": [
            "hash table full\n"
          ]
        }
      ]
    }
  ]
}