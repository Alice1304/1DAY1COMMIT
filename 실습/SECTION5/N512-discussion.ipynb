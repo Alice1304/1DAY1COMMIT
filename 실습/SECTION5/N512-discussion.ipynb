{
  "nbformat": 4,
  "nbformat_minor": 0,
  "metadata": {
    "colab": {
      "provenance": [],
      "authorship_tag": "ABX9TyObRWNMqEo9rO72u5Lu6VrP",
      "include_colab_link": true
    },
    "kernelspec": {
      "name": "python3",
      "display_name": "Python 3"
    },
    "language_info": {
      "name": "python"
    }
  },
  "cells": [
    {
      "cell_type": "markdown",
      "metadata": {
        "id": "view-in-github",
        "colab_type": "text"
      },
      "source": [
        "<a href=\"https://colab.research.google.com/github/Alice1304/1day1commit/blob/main/%EC%8B%A4%EC%8A%B5/SECTION5/N512-discussion.ipynb\" target=\"_parent\"><img src=\"https://colab.research.google.com/assets/colab-badge.svg\" alt=\"Open In Colab\"/></a>"
      ]
    },
    {
      "cell_type": "code",
      "execution_count": 17,
      "metadata": {
        "colab": {
          "base_uri": "https://localhost:8080/"
        },
        "id": "Xw3KxMoXwKkV",
        "outputId": "ca41c501-4f74-4aec-82e6-69fe510beb7a"
      },
      "outputs": [
        {
          "output_type": "stream",
          "name": "stdout",
          "text": [
            "번호만 입력하세요\n"
          ]
        }
      ],
      "source": [
        "def yourchoice():\n",
        "  try: \n",
        "    boat = int(input(\"탑승하실 유람선의 번호를 입력해주세요! 1번-60분 코스, 2번-야경여행, 3번-공연유람선, 4번-뷔폐유람선 : \"))\n",
        "    age = int(input('만 나이를 입력하세요: '))\n",
        "  except:\n",
        "    print('번호만 입력하세요')\n",
        "  else:\n",
        "    #소인(0세~12세)\n",
        "    #청소년(13세~19세)\n",
        "    #19세 이상\n",
        "    if boat == 1:\n",
        "      if age < 13:\n",
        "        fee = \"8,400\"\n",
        "      elif age <=19:\n",
        "        fee = \"10,800\"\n",
        "      else:\n",
        "        fee = \"12,000\"\n",
        "\n",
        "    elif boat == 2:\n",
        "      if age < 13:\n",
        "        fee = \"10,500\"\n",
        "      elif age <=19:\n",
        "        fee = \"13,500\"\n",
        "      else:\n",
        "        fee = \"15,000\"\n",
        "\n",
        "    elif boat == 3:\n",
        "      fee = '19,000'\n",
        "\n",
        "    else:\n",
        "      try:\n",
        "        weekend = int(input(\"주말이면 1번, 주중이면 2번을 선택해주세요 : \"))\n",
        "        meal = int(input(\"런치코스를 선택하시면 1번, 디너코스를 선택하시면 2번 :\"))\n",
        "      except:\n",
        "        print('주중/주말선택은 1번과 2번입니다')\n",
        "      if weekend == 1:\n",
        "          if meal == 1:\n",
        "            fee = \"35,900\"\n",
        "          else: \n",
        "            fee = \"65,000\"\n",
        "      else:\n",
        "        if meal == 1:\n",
        "          fee = '29,900'\n",
        "        else:\n",
        "          fee = '60,000'\n",
        "      \n",
        "      return print(fee)\n",
        "\n",
        "yourchoice()\n"
      ]
    },
    {
      "cell_type": "code",
      "source": [
        "def disneyland():\n",
        "    try:\n",
        "\t    age = int(input(\"나이를 입력해주세요: \"))\n",
        "    except:\n",
        "        print(\"숫자로 나이를 입력해주세요.\")\n",
        "    else:\n",
        "        # 3세 미만은 공짜\n",
        "        if age < 3:\n",
        "            fee = 0\n",
        "        # 3세~9세: 50,000\n",
        "        elif age >= 3 and age < 10:\n",
        "            fee = 50000\n",
        "        else:\n",
        "            fee = 100000\n",
        "        return fee\n",
        "\n",
        "disneyland()"
      ],
      "metadata": {
        "id": "Z2VF2QpSzP8D"
      },
      "execution_count": null,
      "outputs": []
    },
    {
      "cell_type": "code",
      "source": [
        "#동기분의 깔끔한 코드\n",
        "\n",
        "boat = int(input(\"어떤배?: \"))\n",
        "\n",
        "if boat == 4:\n",
        "    weekend = int(input(\"주말?: \")) #1: 주말 0: 평일\n",
        "    dinner = int(input(\"저녁?: \")) #1: 저녁 0:점심\n",
        "    ticket = [weekend, dinner] \n",
        "    price = [[29900, 35900],\n",
        "               [60000, 65000]]\n",
        "    print(price[weekend][dinner])\n",
        "\n",
        "else:\n",
        "    age = int(input(\"몇 살?: \"))\n",
        " \n",
        "  if age < 13:\n",
        "    age = 0     # 소인\n",
        "  elif age < 20:\n",
        "    age = 1     # 청소년\n",
        "  else:\n",
        "    age = 2     # 대인\n",
        "\n",
        "    ticket = [boat, age]\n",
        "    price = [[8400, 10800, 12000],\n",
        "               [10500, 13500, 15000],\n",
        "               [19000, 19000, 19000]]\n",
        "    print(price[boat][age])"
      ],
      "metadata": {
        "id": "9u3a8-_aB_Of"
      },
      "execution_count": null,
      "outputs": []
    }
  ]
}