{
  "nbformat": 4,
  "nbformat_minor": 0,
  "metadata": {
    "colab": {
      "provenance": [],
      "authorship_tag": "ABX9TyMUt++Hxltwk1t+bTXse6V7",
      "include_colab_link": true
    },
    "kernelspec": {
      "name": "python3",
      "display_name": "Python 3"
    },
    "language_info": {
      "name": "python"
    }
  },
  "cells": [
    {
      "cell_type": "markdown",
      "metadata": {
        "id": "view-in-github",
        "colab_type": "text"
      },
      "source": [
        "<a href=\"https://colab.research.google.com/github/Alice1304/1day1commit/blob/main/%EC%8B%A4%EC%8A%B5/SECTION5/N512-discussion.ipynb\" target=\"_parent\"><img src=\"https://colab.research.google.com/assets/colab-badge.svg\" alt=\"Open In Colab\"/></a>"
      ]
    },
    {
      "cell_type": "code",
      "execution_count": 16,
      "metadata": {
        "colab": {
          "base_uri": "https://localhost:8080/"
        },
        "id": "Xw3KxMoXwKkV",
        "outputId": "d6a119af-6b66-4b5d-ee5f-effc92123001"
      },
      "outputs": [
        {
          "output_type": "stream",
          "name": "stdout",
          "text": [
            "탑승하실 유람선의 번호를 입력해주세요! 1번-60분 코스, 2번-야경여행, 3번-공연유람선, 4번-뷔폐유람선 : 4\n",
            "만 나이를 입력하세요: 15\n",
            "주말이면 1번, 주중이면 2번을 선택해주세요 : 1\n",
            "런치코스를 선택하시면 1번, 디너코스를 선택하시면 2번 :1\n",
            "35,900\n"
          ]
        }
      ],
      "source": [
        "def yourchoice():\n",
        "  try: \n",
        "    boat = int(input(\"탑승하실 유람선의 번호를 입력해주세요! 1번-60분 코스, 2번-야경여행, 3번-공연유람선, 4번-뷔폐유람선 : \"))\n",
        "    age = int(input('만 나이를 입력하세요: '))\n",
        "  except:\n",
        "    print('번호만 입력하세요')\n",
        "  else:\n",
        "    #소인(0세~12세)\n",
        "    #청소년(13세~19세)\n",
        "    #19세 이상\n",
        "    if boat == 1:\n",
        "      if age < 13:\n",
        "        fee = \"8,400\"\n",
        "      elif age <=19:\n",
        "        fee = \"10,800\"\n",
        "      else:\n",
        "        fee = \"12,000\"\n",
        "\n",
        "    elif boat == 2:\n",
        "      if age < 13:\n",
        "        fee = \"10,500\"\n",
        "      elif age <=19:\n",
        "        fee = \"13,500\"\n",
        "      else:\n",
        "        fee = \"15,000\"\n",
        "\n",
        "    elif boat == 3:\n",
        "      fee = '19,000'\n",
        "\n",
        "    else:\n",
        "      try:\n",
        "        weekend = int(input(\"주말이면 1번, 주중이면 2번을 선택해주세요 : \"))\n",
        "        meal = int(input(\"런치코스를 선택하시면 1번, 디너코스를 선택하시면 2번 :\"))\n",
        "      except:\n",
        "        print('주중/주말선택은 1번과 2번입니다')\n",
        "      if weekend == 1:\n",
        "          if meal == 1:\n",
        "            fee = \"35,900\"\n",
        "          else: \n",
        "            fee = \"65,000\"\n",
        "      else:\n",
        "        if meal == 1:\n",
        "          fee = '29,900'\n",
        "        else:\n",
        "          fee = '60,000'\n",
        "      \n",
        "      return print(fee)\n",
        "\n",
        "yourchoice()\n"
      ]
    },
    {
      "cell_type": "code",
      "source": [
        "def disneyland():\n",
        "    try:\n",
        "\t    age = int(input(\"나이를 입력해주세요: \"))\n",
        "    except:\n",
        "        print(\"숫자로 나이를 입력해주세요.\")\n",
        "    else:\n",
        "        # 3세 미만은 공짜\n",
        "        if age < 3:\n",
        "            fee = 0\n",
        "        # 3세~9세: 50,000\n",
        "        elif age >= 3 and age < 10:\n",
        "            fee = 50000\n",
        "        else:\n",
        "            fee = 100000\n",
        "        return fee\n",
        "\n",
        "disneyland()"
      ],
      "metadata": {
        "id": "Z2VF2QpSzP8D"
      },
      "execution_count": null,
      "outputs": []
    }
  ]
}