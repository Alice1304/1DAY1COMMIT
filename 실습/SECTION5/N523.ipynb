{
  "nbformat": 4,
  "nbformat_minor": 0,
  "metadata": {
    "colab": {
      "provenance": [],
      "authorship_tag": "ABX9TyNwsn71iEr3GwBRnxxMZoUJ",
      "include_colab_link": true
    },
    "kernelspec": {
      "name": "python3",
      "display_name": "Python 3"
    },
    "language_info": {
      "name": "python"
    }
  },
  "cells": [
    {
      "cell_type": "markdown",
      "metadata": {
        "id": "view-in-github",
        "colab_type": "text"
      },
      "source": [
        "<a href=\"https://colab.research.google.com/github/Alice1304/1day1commit/blob/main/%EC%8B%A4%EC%8A%B5/SECTION5/N523.ipynb\" target=\"_parent\"><img src=\"https://colab.research.google.com/assets/colab-badge.svg\" alt=\"Open In Colab\"/></a>"
      ]
    },
    {
      "cell_type": "code",
      "execution_count": 2,
      "metadata": {
        "colab": {
          "base_uri": "https://localhost:8080/"
        },
        "id": "yujjojO0qA-u",
        "outputId": "53d5a51b-3ee0-4687-e882-a04ff3bac45e"
      },
      "outputs": [
        {
          "output_type": "stream",
          "name": "stdout",
          "text": [
            "2002 2009 2016 2023 2037 2044 2051 2058 2072 2079 2086 2093 2107 2114 2121 2128 2142 2149 2156 2163 2177 2184 2191 2198 2212 2219 2226 2233 2247 2254 2261 2268 2282 2289 2296 2303 2317 2324 2331 2338 2352 2359 2366 2373 2387 2394 2401 2408 2422 2429 2436 2443 2457 2464 2471 2478 2492 2499 2506 2513 2527 2534 2541 2548 2562 2569 2576 2583 2597 2604 2611 2618 2632 2639 2646 2653 2667 2674 2681 2688 2702 2709 2716 2723 2737 2744 2751 2758 2772 2779 2786 2793 2807 2814 2821 2828 2842 2849 2856 2863 2877 2884 2891 2898 2912 2919 2926 2933 2947 2954 2961 2968 2982 2989 2996 3003 3017 3024 3031 3038 3052 3059 3066 3073 3087 3094 3101 3108 3122 3129 3136 3143 3157 3164 3171 3178 3192 3199\n"
          ]
        }
      ],
      "source": [
        "# 인트로 코딩\n",
        "intro_list=[]     # 리스트 생성\n",
        "for div_number in range(2000, 3201):    # 반복문\n",
        "    if (div_number % 7 == 0) and (div_number % 5 != 0): # 조건문, and 조건\n",
        "        intro_list.append(str(div_number))      # 리스트 메소드 append 사용, 파이썬 내장함수 str 사용\n",
        "\n",
        "print(' '.join(intro_list))   # 리스트 메소드 join 사용"
      ]
    },
    {
      "cell_type": "code",
      "source": [
        "# 입력된 소문자알파벳의 위치를 찾아보자.\n",
        "character = input()\n",
        "for i in range(26):   # 알파벳갯수만큼 반복\n",
        "    word = character.find(chr(i+97))  # chr 메소드 사용\n",
        "    print(word, end = \" \")   # 아스키코드가 97~122(a~z)인 경우, 영어소문자단어를 나타냄"
      ],
      "metadata": {
        "colab": {
          "base_uri": "https://localhost:8080/"
        },
        "id": "iBKk-E_DqVO7",
        "outputId": "0461dd5b-c2fe-406d-d0e7-ad2909166eeb"
      },
      "execution_count": 9,
      "outputs": [
        {
          "output_type": "stream",
          "name": "stdout",
          "text": [
            "k\n",
            "-1 -1 -1 -1 -1 -1 -1 -1 -1 -1 0 -1 -1 -1 -1 -1 -1 -1 -1 -1 -1 -1 -1 -1 -1 -1 "
          ]
        }
      ]
    },
    {
      "cell_type": "code",
      "source": [
        "# 라면끓이기를 코드로 작성하자.\n",
        "# 아래 소스코드는 하나의 함수에 모든 기능을 넣었기 때문에 if조건문이 반복된다.\n",
        "# 조건이 적은 경우에는 하나의 함수를 활용하는 것이 좋지만, 조건이 많아지는 경우에는 적절한 함수구분이 필요하다.\n",
        "def making_noodle():\n",
        "    # 0 step\n",
        "    noodle = 0\n",
        "    egg = 0\n",
        "    GreenOnion = 0\n",
        "    pot = 0\n",
        "    water = 0\n",
        "    result_noodle = 1\n",
        "\n",
        "    # 1 step\n",
        "    water = 2\n",
        "    print(\"==================================\")\n",
        "    print(\"step 1 : 물을 붇는다.\")\n",
        "\n",
        "    # 2 step\n",
        "    if water == 2:\n",
        "        print(\"==================================\")\n",
        "        print('step 2 : 대파와 라면을 넣는다.')\n",
        "        print(\"==================================\")\n",
        "        GreenOnion = 1\n",
        "        noodle = 1\n",
        "\n",
        "    # 3 step  \n",
        "    if GreenOnion == 1 and noodle == 1:\n",
        "        for result_noodle in range(5):\n",
        "            print(\"step 3 : 면이 익도록 \", result_noodle+1,\"번 반복해준다.\")\n",
        "            result_noodle += 1\n",
        "\n",
        "    # 4 step\n",
        "    if result_noodle == 5:\n",
        "        print(\"==================================\")\n",
        "        print(\"step 4 : 계란을 넣는다.\")\n",
        "        egg = 1\n",
        "\n",
        "    # 5 step\n",
        "    if egg == 1: \n",
        "        print(\"==================================\")\n",
        "        print(\"step 5 : 라면 완성\")\n",
        "        print(\"==================================\")\n",
        "\n",
        "making_noodle()"
      ],
      "metadata": {
        "colab": {
          "base_uri": "https://localhost:8080/"
        },
        "id": "_SSKr4UCsA-C",
        "outputId": "45df2f94-5182-4c24-da02-b403a8d30d44"
      },
      "execution_count": 10,
      "outputs": [
        {
          "output_type": "stream",
          "name": "stdout",
          "text": [
            "==================================\n",
            "step 1 : 물을 붇는다.\n",
            "==================================\n",
            "step 2 : 대파와 라면을 넣는다.\n",
            "==================================\n",
            "step 3 : 면이 익도록  1 번 반복해준다.\n",
            "step 3 : 면이 익도록  2 번 반복해준다.\n",
            "step 3 : 면이 익도록  3 번 반복해준다.\n",
            "step 3 : 면이 익도록  4 번 반복해준다.\n",
            "step 3 : 면이 익도록  5 번 반복해준다.\n",
            "==================================\n",
            "step 4 : 계란을 넣는다.\n",
            "==================================\n",
            "step 5 : 라면 완성\n",
            "==================================\n"
          ]
        }
      ]
    },
    {
      "cell_type": "code",
      "source": [
        "# 다음 예시를 통해 문자열처리 메소드의 효율성을 알아보자.\n",
        "# strip 메소드는 문자의 앞뒤공백을 제거해준다.\n",
        "# split 메소드는 문자열을 특정기준을 통해 리스트형태로 나눠준다.\n",
        "# 입력 예시: 'aa bb cc'\n",
        "stringtest_strip_split = input().strip().split(' ')\n",
        "if stringtest_strip_split[0] == '':\n",
        "    print(0)\n",
        "else:\n",
        "    print(len(stringtest_strip_split))"
      ],
      "metadata": {
        "colab": {
          "base_uri": "https://localhost:8080/"
        },
        "id": "gn2C_gZy0yKa",
        "outputId": "a620eeaa-03fc-40e6-9edf-222a1845e39b"
      },
      "execution_count": 14,
      "outputs": [
        {
          "output_type": "stream",
          "name": "stdout",
          "text": [
            " dd ee     \n",
            "2\n"
          ]
        }
      ]
    },
    {
      "cell_type": "code",
      "source": [
        "# 팩토리얼 예시코드\n",
        "n = int(input(\"숫자 입력하세요:\"))\n",
        "def factorial(n): \n",
        "    if n > 0 :\n",
        "        return n * factorial(n - 1)\n",
        "    else :\n",
        "        return 1\n",
        "\n",
        "print('팩토리얼 결과:', factorial(n))"
      ],
      "metadata": {
        "colab": {
          "base_uri": "https://localhost:8080/"
        },
        "id": "Q-3r6A-y1sSS",
        "outputId": "34e7f20a-3546-4c80-908f-ea54f420ad70"
      },
      "execution_count": 15,
      "outputs": [
        {
          "output_type": "stream",
          "name": "stdout",
          "text": [
            "숫자 입력하세요:5\n",
            "팩토리얼 결과: 120\n"
          ]
        }
      ]
    },
    {
      "cell_type": "code",
      "source": [
        "# 파이썬에서 시간을 측정하기 위한 함수생성\n",
        "import time\n",
        "from functools import wraps\n",
        "\n",
        "def check_time(function):\n",
        "\t@wraps(function)\n",
        "\tdef measure(*args, **kwargs):\n",
        "\t\tstart_time = time.time()\n",
        "\t\tresult = function(*args, **kwargs)\n",
        "\t\tend_time = time.time()\n",
        "\t\tprint(f\"@check_time: {function.__name__} took {end_time - start_time}\")\n",
        "\t\treturn result\n",
        "\n",
        "\treturn measure"
      ],
      "metadata": {
        "id": "trVLuYG110Qi"
      },
      "execution_count": 16,
      "outputs": []
    },
    {
      "cell_type": "code",
      "source": [
        "# case - 1\n",
        "@check_time # 데코레이터 생성하여 활용\n",
        "def sum_n(n):\n",
        "    s = 0\n",
        "    for i in range(1, n+1):\n",
        "        s += i\n",
        "    return s\n",
        "\n",
        "if __name__ == \"__main__\":\n",
        "\tsum_n(100000)"
      ],
      "metadata": {
        "colab": {
          "base_uri": "https://localhost:8080/"
        },
        "id": "XDzLv2BW16aZ",
        "outputId": "e3080549-7fc3-4f60-f42e-0a0bc1e59eed"
      },
      "execution_count": 17,
      "outputs": [
        {
          "output_type": "stream",
          "name": "stdout",
          "text": [
            "@check_time: sum_n took 0.011419057846069336\n"
          ]
        }
      ]
    },
    {
      "cell_type": "code",
      "source": [
        "print(sum_n(100))"
      ],
      "metadata": {
        "colab": {
          "base_uri": "https://localhost:8080/"
        },
        "id": "atlirZHe2DL5",
        "outputId": "c5633664-4c47-4fbb-9396-bb756731d8f1"
      },
      "execution_count": 18,
      "outputs": [
        {
          "output_type": "stream",
          "name": "stdout",
          "text": [
            "@check_time: sum_n took 1.2636184692382812e-05\n",
            "5050\n"
          ]
        }
      ]
    },
    {
      "cell_type": "code",
      "source": [
        "# case - 2\n",
        "@check_time # 데코레이터 생성하여 활용\n",
        "def sum_n2(n):\n",
        "    return n * (n + 1) // 2\n",
        "\n",
        "if __name__ == \"__main__\":\n",
        "    sum_n2(100000)"
      ],
      "metadata": {
        "colab": {
          "base_uri": "https://localhost:8080/"
        },
        "id": "nSBSUwQA2KzB",
        "outputId": "90a8a661-71aa-4735-8ef4-28cf05fc0aac"
      },
      "execution_count": 19,
      "outputs": [
        {
          "output_type": "stream",
          "name": "stdout",
          "text": [
            "@check_time: sum_n2 took 2.6226043701171875e-06\n"
          ]
        }
      ]
    },
    {
      "cell_type": "code",
      "source": [
        "print(sum_n2(100))"
      ],
      "metadata": {
        "colab": {
          "base_uri": "https://localhost:8080/"
        },
        "id": "jJH_fM3a2MEZ",
        "outputId": "401b8d1f-650d-4382-cb3d-85ce7f2aefd4"
      },
      "execution_count": 20,
      "outputs": [
        {
          "output_type": "stream",
          "name": "stdout",
          "text": [
            "@check_time: sum_n2 took 1.9073486328125e-06\n",
            "5050\n"
          ]
        }
      ]
    },
    {
      "cell_type": "code",
      "source": [
        "# 첫번째 방법\n",
        "a = 3\n",
        "b = 1\n",
        "\n",
        "temp = a\n",
        "#t = 3\n",
        "a = b \n",
        "# a =1 \n",
        "b = temp\n",
        "b = 3 \n",
        "print(a, b)"
      ],
      "metadata": {
        "colab": {
          "base_uri": "https://localhost:8080/"
        },
        "id": "C_j1f9e39qJJ",
        "outputId": "437e2037-a178-4239-8655-07059a76fecf"
      },
      "execution_count": 22,
      "outputs": [
        {
          "output_type": "stream",
          "name": "stdout",
          "text": [
            "1 3\n"
          ]
        }
      ]
    },
    {
      "cell_type": "code",
      "source": [
        "def linear_search(linear_arr, search_number):\n",
        "    for i in range(len(linear_arr)):\n",
        "        if linear_arr[i] == search_number:\n",
        "            return i\n",
        "\n",
        "linear_arr = [5, 22, 87, 1, 3]\n",
        "search_number = 1\n",
        "print(\"search index:\",linear_search(linear_arr, search_number))"
      ],
      "metadata": {
        "colab": {
          "base_uri": "https://localhost:8080/"
        },
        "id": "xOggR6Wu9vdI",
        "outputId": "a05275b9-f7d8-4d00-ceba-06ccf90aaef8"
      },
      "execution_count": 23,
      "outputs": [
        {
          "output_type": "stream",
          "name": "stdout",
          "text": [
            "search index: 3\n"
          ]
        }
      ]
    },
    {
      "cell_type": "code",
      "source": [
        "def test_binary_search(test_list, test_search_item):\n",
        "    low = 0  # 인덱스가 0(리스트의 첫번째 항목)으로 주어진다.\n",
        "    high = len(test_list) - 1  # 인덱스의 마지막 항목(리스트길이 - 1)\n",
        "\n",
        "    while low <= high:\n",
        "        middle = (low + high) // 2   # middle 변수를 생성해서 이진검색속도를 빠르게 한다. #MIDDLE = 3 \n",
        "        search_value = test_list[middle]\n",
        "\n",
        "        if search_value == test_search_item:\n",
        "            return middle   # 이진검색을 통해 값을 찾는 경우, 검색값의 인덱스를 반환한다.\n",
        "        if search_value > test_search_item:\n",
        "            high = middle - 1\n",
        "        else:\n",
        "            low = middle + 1\n",
        "\n",
        "    return '인덱스를 찾지 못함'   # 이진검색을 통해 값을 찾지 못하는 경우, 별도의 인덱스를 반환하지 않는다.\n",
        "\n",
        "test_list = [6, 12, 17, 23, 38, 45, 77, 84]   # 이진검색의 조건에 적합하도록 이미 정렬된 리스트를 활용한다.\n",
        "print('이진검색을 통해 검색된 리스트 인덱스:', test_binary_search(test_list, 77))"
      ],
      "metadata": {
        "colab": {
          "base_uri": "https://localhost:8080/"
        },
        "id": "yXoGl5RLEhgZ",
        "outputId": "9d0dc452-7bdc-4980-d6d3-35f7fffb6ce0"
      },
      "execution_count": 25,
      "outputs": [
        {
          "output_type": "stream",
          "name": "stdout",
          "text": [
            "이진검색을 통해 검색된 리스트 인덱스: 6\n"
          ]
        }
      ]
    },
    {
      "cell_type": "code",
      "source": [
        "# 예시 리스트\n",
        "our_numbers = [5, 9, 3, 6, 2, 1, 7, 8, 4]"
      ],
      "metadata": {
        "id": "QBe7o58KkhLF"
      },
      "execution_count": 1,
      "outputs": []
    },
    {
      "cell_type": "code",
      "source": [
        "# 선택정렬 소스코드를 아래 로직에 따라서 추가 작성해보세요!\n",
        "def selection_sort(items):\n",
        "    for i in range(0, len(items) - 1):    # 외부 반복문(루프)\n",
        "        cur_index = i\n",
        "        smallest_index = cur_index\n",
        "\n",
        "        for j in range(cur_index + 1, len(items)):  # 내부루프\n",
        "          if(items[j]<items[smallest_index]):\n",
        "            cur_index= j;\n",
        "            # 1) 최소값찾는 로직을 직접 작성해보세요!\n",
        "\n",
        "        # 2) 로직에 따라 최소값을 찾고, 아래 두 swap방법 중 하나를 선택하여 교환을 수행하시오.\n",
        "        # items[smallest_index]와 items[cur_index] 값을 Swap(교환) 한다.\n",
        "\n",
        "        # # 첫번째 swap 방법\n",
        "        #   temp = items[smallest_index]\n",
        "        #   items[smallest_index] = items[cur_index]\n",
        "        #   items[cur_index]= temp \n",
        "\n",
        "        #두번째 swap 방법\n",
        "            items[smallest_index], items[cur_index] = items[cur_index], items[smallest_index]\n",
        "\n",
        "    return items"
      ],
      "metadata": {
        "id": "Z19yOaGLlAye"
      },
      "execution_count": 11,
      "outputs": []
    },
    {
      "cell_type": "code",
      "source": [
        "# 정렬된 결과값 출력\n",
        "print(selection_sort(our_numbers))"
      ],
      "metadata": {
        "colab": {
          "base_uri": "https://localhost:8080/"
        },
        "id": "1_dpRY-NlRJV",
        "outputId": "1d1fe349-1456-4a42-e599-2736604d57e0"
      },
      "execution_count": 12,
      "outputs": [
        {
          "output_type": "stream",
          "name": "stdout",
          "text": [
            "[1, 2, 3, 4, 5, 6, 7, 8, 9]\n"
          ]
        }
      ]
    },
    {
      "cell_type": "code",
      "source": [
        "# 삽입정렬 소스코드\n",
        "def ins_sort(unsort_list):\n",
        "    loop_number = len(unsort_list)          # 반복횟수를 위한 길이설정\n",
        "\n",
        "    # 앞쪽에 있는 노드들을 검색하기 위한 반복문\n",
        "    for compare_index in range(loop_number):    # 비교하려는 위치부터 loop_number만큼 반복\n",
        "        compare_value = unsort_list[compare_index]  \n",
        "        prev_position = compare_index - 1   # 이전 노드값에 대한 인덱스를 가리킴\n",
        "\n",
        "        # 비교연산 후 삽입을 진행하는 반복문\n",
        "        while prev_position >= 0 and unsort_list[prev_position] > compare_value:    \n",
        "            unsort_list[prev_position + 1] = unsort_list[prev_position] # swap을 위한 작업\n",
        "            prev_position = prev_position - 1\n",
        "        unsort_list[prev_position + 1] = compare_value    # 비교된 더 큰 값을 (이전노드+1) 인덱스에 삽입\n",
        "\n",
        "    return unsort_list\n",
        "\n",
        "test_arr = [5, 3, 1, 6]\n",
        "ins_sort(test_arr)"
      ],
      "metadata": {
        "colab": {
          "base_uri": "https://localhost:8080/"
        },
        "id": "R0bwTGX9oO3v",
        "outputId": "3f27ff2c-bdd9-43eb-e199-cdcc07d00e88"
      },
      "execution_count": 13,
      "outputs": [
        {
          "output_type": "execute_result",
          "data": {
            "text/plain": [
              "[1, 3, 5, 6]"
            ]
          },
          "metadata": {},
          "execution_count": 13
        }
      ]
    },
    {
      "cell_type": "code",
      "source": [
        "# 버블정렬 소스코드\n",
        "def bubble_sort(li):\n",
        "    length = len(li) - 1\n",
        "    for a in range(length):\n",
        "      for b in range(length-a):\n",
        "              if li[b+1] < li[b]:\n",
        "                  li[b+1], li[b] = li[b], li[b+1]\n",
        "    return li\n",
        "      # 외부 반복문(아래 그림에서 전체 리스트에 대해 정렬이 완료되었는지 검사하고 패스해줌)\n",
        "        # 내부 반복문(아래 그림에서 하나의 리스트의 개별 값을 비교하고 교체시킨다)\n",
        "            # 현재 인덱스의 값과 다음 인덱스의 값 비교\n",
        "                # 비교한 것에 따라 정렬을 위한 인덱스 교환 작업\n",
        "\n",
        "li = [10, 2, 1, 7, 4, 3, 0]\n",
        "bubble_sort(li)\n",
        "print(li)"
      ],
      "metadata": {
        "colab": {
          "base_uri": "https://localhost:8080/"
        },
        "id": "pfKVwnNFou_9",
        "outputId": "7e51879a-d12f-43df-a402-206d828bd49d"
      },
      "execution_count": 18,
      "outputs": [
        {
          "output_type": "stream",
          "name": "stdout",
          "text": [
            "[0, 1, 2, 3, 4, 7, 10]\n"
          ]
        }
      ]
    }
  ]
}