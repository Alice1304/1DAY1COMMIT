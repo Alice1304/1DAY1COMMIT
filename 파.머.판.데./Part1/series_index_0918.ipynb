{
  "nbformat": 4,
  "nbformat_minor": 0,
  "metadata": {
    "colab": {
      "provenance": [],
      "authorship_tag": "ABX9TyPdgVmWqQZkf/H2vMbJ1xO+",
      "include_colab_link": true
    },
    "kernelspec": {
      "name": "python3",
      "display_name": "Python 3"
    },
    "language_info": {
      "name": "python"
    }
  },
  "cells": [
    {
      "cell_type": "markdown",
      "metadata": {
        "id": "view-in-github",
        "colab_type": "text"
      },
      "source": [
        "<a href=\"https://colab.research.google.com/github/Alice1304/1day1commit/blob/main/%ED%8C%8C.%EB%A8%B8.%ED%8C%90.%EB%8D%B0./Part1/series_index_0918.ipynb\" target=\"_parent\"><img src=\"https://colab.research.google.com/assets/colab-badge.svg\" alt=\"Open In Colab\"/></a>"
      ]
    },
    {
      "cell_type": "code",
      "execution_count": 1,
      "metadata": {
        "colab": {
          "base_uri": "https://localhost:8080/"
        },
        "id": "bs3yJkT-A_j9",
        "outputId": "95173fba-585e-41ce-dbb1-98b9ad262502"
      },
      "outputs": [
        {
          "output_type": "execute_result",
          "data": {
            "text/plain": [
              "0     오늘\n",
              "1    점심은\n",
              "2     아마\n",
              "3    참야비\n",
              "dtype: object"
            ]
          },
          "metadata": {},
          "execution_count": 1
        }
      ],
      "source": [
        "import pandas as pd\n",
        "\n",
        "#리스트 만들기 \n",
        "\n",
        "list = ['오늘', '점심은','아마','참야비']\n",
        "lunch = pd.Series(list)\n",
        "lunch"
      ]
    },
    {
      "cell_type": "code",
      "source": [
        "lunch.index"
      ],
      "metadata": {
        "colab": {
          "base_uri": "https://localhost:8080/"
        },
        "id": "CsaNP7A9ChI5",
        "outputId": "55557eed-eb15-4570-8ffc-3850cdc93d1f"
      },
      "execution_count": 5,
      "outputs": [
        {
          "output_type": "execute_result",
          "data": {
            "text/plain": [
              "RangeIndex(start=0, stop=4, step=1)"
            ]
          },
          "metadata": {},
          "execution_count": 5
        }
      ]
    },
    {
      "cell_type": "code",
      "source": [
        "lunch.values"
      ],
      "metadata": {
        "colab": {
          "base_uri": "https://localhost:8080/"
        },
        "id": "AP7vJZOVCmVY",
        "outputId": "a8a78fde-c512-427b-8bf0-295707fd7c81"
      },
      "execution_count": 6,
      "outputs": [
        {
          "output_type": "execute_result",
          "data": {
            "text/plain": [
              "array(['오늘', '점심은', '아마', '참야비'], dtype=object)"
            ]
          },
          "metadata": {},
          "execution_count": 6
        }
      ]
    },
    {
      "cell_type": "code",
      "source": [
        "#튜플 데이터를 시리즈로 변환하기 (옵션 따로 지정)\n",
        "\n",
        "seventeen = ('세븐틴', 13 , 3 , '아낀다', True)\n",
        "sr = pd.Series(seventeen, index=['그룹명','멤버수','유닛수','데뷔곡','활동여부'])"
      ],
      "metadata": {
        "id": "eBlt6CMlEo6g"
      },
      "execution_count": 7,
      "outputs": []
    },
    {
      "cell_type": "code",
      "source": [
        "sr"
      ],
      "metadata": {
        "colab": {
          "base_uri": "https://localhost:8080/"
        },
        "id": "-DnHTE4fGQQP",
        "outputId": "cfc157c6-c188-43dc-e077-52644f10d3b3"
      },
      "execution_count": 8,
      "outputs": [
        {
          "output_type": "execute_result",
          "data": {
            "text/plain": [
              "그룹명      세븐틴\n",
              "멤버수       13\n",
              "유닛수        3\n",
              "데뷔곡      아낀다\n",
              "활동여부    True\n",
              "dtype: object"
            ]
          },
          "metadata": {},
          "execution_count": 8
        }
      ]
    },
    {
      "cell_type": "code",
      "source": [
        "#그룹명을 출력하는 두가지 방법"
      ],
      "metadata": {
        "id": "rFwkkhhAGXu_"
      },
      "execution_count": 9,
      "outputs": []
    },
    {
      "cell_type": "code",
      "source": [
        "sr[0]"
      ],
      "metadata": {
        "colab": {
          "base_uri": "https://localhost:8080/",
          "height": 35
        },
        "id": "62vQXGMuGaKm",
        "outputId": "a51c0b62-9315-4e3d-bec0-d8fb2f6e7cdc"
      },
      "execution_count": 10,
      "outputs": [
        {
          "output_type": "execute_result",
          "data": {
            "text/plain": [
              "'세븐틴'"
            ],
            "application/vnd.google.colaboratory.intrinsic+json": {
              "type": "string"
            }
          },
          "metadata": {},
          "execution_count": 10
        }
      ]
    },
    {
      "cell_type": "code",
      "source": [
        "sr['그룹명']"
      ],
      "metadata": {
        "colab": {
          "base_uri": "https://localhost:8080/",
          "height": 35
        },
        "id": "7ML08yPNGcuP",
        "outputId": "1507b73e-1aa2-4c86-e21a-57b79eddf772"
      },
      "execution_count": 11,
      "outputs": [
        {
          "output_type": "execute_result",
          "data": {
            "text/plain": [
              "'세븐틴'"
            ],
            "application/vnd.google.colaboratory.intrinsic+json": {
              "type": "string"
            }
          },
          "metadata": {},
          "execution_count": 11
        }
      ]
    },
    {
      "cell_type": "code",
      "source": [
        "#그룹명과 데뷔곡 출력하기 "
      ],
      "metadata": {
        "id": "HfQIZdfrGjFq"
      },
      "execution_count": null,
      "outputs": []
    },
    {
      "cell_type": "code",
      "source": [
        "sr[[0,3]]"
      ],
      "metadata": {
        "colab": {
          "base_uri": "https://localhost:8080/"
        },
        "id": "QtdsWQK0Gnrm",
        "outputId": "212f9e67-3d3c-4cd0-e11f-cd1894418b66"
      },
      "execution_count": 14,
      "outputs": [
        {
          "output_type": "execute_result",
          "data": {
            "text/plain": [
              "그룹명    세븐틴\n",
              "데뷔곡    아낀다\n",
              "dtype: object"
            ]
          },
          "metadata": {},
          "execution_count": 14
        }
      ]
    },
    {
      "cell_type": "code",
      "source": [
        "sr[['그룹명','데뷔곡']]"
      ],
      "metadata": {
        "colab": {
          "base_uri": "https://localhost:8080/"
        },
        "id": "FDU0iHjGGwzf",
        "outputId": "da34c707-fe90-47e9-ec24-844e805e593a"
      },
      "execution_count": 15,
      "outputs": [
        {
          "output_type": "execute_result",
          "data": {
            "text/plain": [
              "그룹명    세븐틴\n",
              "데뷔곡    아낀다\n",
              "dtype: object"
            ]
          },
          "metadata": {},
          "execution_count": 15
        }
      ]
    },
    {
      "cell_type": "code",
      "source": [
        "#그룹명~유닛수까지 프린트하기"
      ],
      "metadata": {
        "id": "Hqm3hWoXG442"
      },
      "execution_count": 16,
      "outputs": []
    },
    {
      "cell_type": "code",
      "source": [
        "sr[0:3]"
      ],
      "metadata": {
        "colab": {
          "base_uri": "https://localhost:8080/"
        },
        "id": "ESnYevJ_HAgn",
        "outputId": "4bc1a476-b070-4847-f05d-d5604cb63f90"
      },
      "execution_count": 17,
      "outputs": [
        {
          "output_type": "execute_result",
          "data": {
            "text/plain": [
              "그룹명    세븐틴\n",
              "멤버수     13\n",
              "유닛수      3\n",
              "dtype: object"
            ]
          },
          "metadata": {},
          "execution_count": 17
        }
      ]
    },
    {
      "cell_type": "code",
      "source": [
        "sr['그룹명':'유닛수']"
      ],
      "metadata": {
        "colab": {
          "base_uri": "https://localhost:8080/"
        },
        "id": "rAfDN1Y7HD7m",
        "outputId": "b7be0efb-992a-4fb5-fd46-22b4b9e540b6"
      },
      "execution_count": 19,
      "outputs": [
        {
          "output_type": "execute_result",
          "data": {
            "text/plain": [
              "그룹명    세븐틴\n",
              "멤버수     13\n",
              "유닛수      3\n",
              "dtype: object"
            ]
          },
          "metadata": {},
          "execution_count": 19
        }
      ]
    }
  ]
}